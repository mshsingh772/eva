{
  "nbformat": 4,
  "nbformat_minor": 0,
  "metadata": {
    "kernelspec": {
      "name": "python3",
      "display_name": "Python 3"
    },
    "language_info": {
      "codemirror_mode": {
        "name": "ipython",
        "version": 3
      },
      "file_extension": ".py",
      "mimetype": "text/x-python",
      "name": "python",
      "nbconvert_exporter": "python",
      "pygments_lexer": "ipython3",
      "version": "3.6.6"
    },
    "colab": {
      "name": "main.ipynb",
      "provenance": [],
      "collapsed_sections": []
    },
    "accelerator": "GPU"
  },
  "cells": [
    {
      "cell_type": "code",
      "metadata": {
        "id": "-1jz8NpcVIiN",
        "colab_type": "code",
        "colab": {
          "base_uri": "https://localhost:8080/",
          "height": 34
        },
        "outputId": "633149b7-7bd6-47b1-c46f-86b1019a9226"
      },
      "source": [
        "from google.colab import drive\n",
        "drive.mount('/content/drive')"
      ],
      "execution_count": 1,
      "outputs": [
        {
          "output_type": "stream",
          "text": [
            "Drive already mounted at /content/drive; to attempt to forcibly remount, call drive.mount(\"/content/drive\", force_remount=True).\n"
          ],
          "name": "stdout"
        }
      ]
    },
    {
      "cell_type": "code",
      "metadata": {
        "id": "voQaBWDqWofN",
        "colab_type": "code",
        "colab": {
          "base_uri": "https://localhost:8080/",
          "height": 34
        },
        "outputId": "bff7ea8a-6d8c-43c0-e50e-aa25822ea4a7"
      },
      "source": [
        "cd \"/content/drive/My Drive/EVA4/Notebooks/S11\""
      ],
      "execution_count": 2,
      "outputs": [
        {
          "output_type": "stream",
          "text": [
            "/content/drive/My Drive/EVA4/Notebooks/S11\n"
          ],
          "name": "stdout"
        }
      ]
    },
    {
      "cell_type": "markdown",
      "metadata": {
        "id": "qOpilFhLuQZ7",
        "colab_type": "text"
      },
      "source": [
        "## Necessary Imports"
      ]
    },
    {
      "cell_type": "code",
      "metadata": {
        "colab_type": "code",
        "outputId": "3863583f-0298-409d-91de-77b5db5fb103",
        "id": "rV36OhUPa_y6",
        "colab": {
          "base_uri": "https://localhost:8080/",
          "height": 50
        }
      },
      "source": [
        "import numpy as np\n",
        "\n",
        "import torch\n",
        "from torchvision import transforms\n",
        "import torch.optim as optim\n",
        "import torch.nn as nn\n",
        "import torch.optim as optim\n",
        "from torch.optim.lr_scheduler import OneCycleLR\n",
        "\n",
        "\n",
        "\n",
        "from vision import dataloaders\n",
        "from vision.utils import Helper\n",
        "from vision.models.resnet import ResNet18\n",
        "from vision.models.customeResNet import CustomModel\n",
        "from vision.imagetransforms import TorchTransforms,  album_train_transforms, album_test_transforms\n",
        "from vision.train_test_model import RunModel\n",
        "from vision.lr_finder import LRFinder\n",
        "from vision import plot_grad\n",
        "from vision import train_test_model\n",
        "from vision.lr_range_test import RangeTest\n",
        "\n",
        "\n",
        "import matplotlib.pyplot as plt\n",
        "%matplotlib inline"
      ],
      "execution_count": 3,
      "outputs": [
        {
          "output_type": "stream",
          "text": [
            "WARNING:vision.lr_finder:To enable mixed precision training, please install `apex`. Or you can re-install this package by the following command:\n",
            "  pip install torch-lr-finder -v --global-option=\"amp\"\n"
          ],
          "name": "stderr"
        }
      ]
    },
    {
      "cell_type": "markdown",
      "metadata": {
        "id": "52LCOGmKuUL_",
        "colab_type": "text"
      },
      "source": [
        "## Wave Plotting"
      ]
    },
    {
      "cell_type": "code",
      "metadata": {
        "id": "EsLVoButs4AQ",
        "colab_type": "code",
        "colab": {}
      },
      "source": [
        "helper = Helper()"
      ],
      "execution_count": 0,
      "outputs": []
    },
    {
      "cell_type": "code",
      "metadata": {
        "id": "xqIt2qSTjs-7",
        "colab_type": "code",
        "colab": {
          "base_uri": "https://localhost:8080/",
          "height": 265
        },
        "outputId": "d41dbed4-2929-4213-c75a-a3c918599534"
      },
      "source": [
        "helper.plot_saw_tooth()"
      ],
      "execution_count": 5,
      "outputs": [
        {
          "output_type": "display_data",
          "data": {
            "image/png": "[encoded data removed]",
            "text/plain": [
              "<Figure size 432x288 with 1 Axes>"
            ]
          },
          "metadata": {
            "tags": [],
            "needs_background": "light"
          }
        }
      ]
    },
    {
      "cell_type": "markdown",
      "metadata": {
        "id": "jYTy1RE2uMyl",
        "colab_type": "text"
      },
      "source": [
        "## Custom Resnet Model"
      ]
    },
    {
      "cell_type": "code",
      "metadata": {
        "id": "KJGUCt-ApH8T",
        "colab_type": "code",
        "colab": {}
      },
      "source": [
        "Net = CustomModel()"
      ],
      "execution_count": 0,
      "outputs": []
    },
    {
      "cell_type": "code",
      "metadata": {
        "id": "DxFaKebxOpUi",
        "colab_type": "code",
        "outputId": "f2edcf92-3e9e-412d-c948-396333fc89bc",
        "colab": {
          "base_uri": "https://localhost:8080/",
          "height": 722
        }
      },
      "source": [
        "size =  (3, 32, 32)\n",
        "helper.model_summary(Net, size)"
      ],
      "execution_count": 7,
      "outputs": [
        {
          "output_type": "stream",
          "text": [
            "----------------------------------------------------------------\n",
            "        Layer (type)               Output Shape         Param #\n",
            "================================================================\n",
            "            Conv2d-1           [-1, 64, 32, 32]           1,728\n",
            "       BatchNorm2d-2           [-1, 64, 32, 32]             128\n",
            "              ReLU-3           [-1, 64, 32, 32]               0\n",
            "            Conv2d-4          [-1, 128, 32, 32]          73,728\n",
            "         MaxPool2d-5          [-1, 128, 16, 16]               0\n",
            "       BatchNorm2d-6          [-1, 128, 16, 16]             256\n",
            "              ReLU-7          [-1, 128, 16, 16]               0\n",
            "            Conv2d-8          [-1, 128, 16, 16]         147,456\n",
            "       BatchNorm2d-9          [-1, 128, 16, 16]             256\n",
            "             ReLU-10          [-1, 128, 16, 16]               0\n",
            "           Conv2d-11          [-1, 128, 16, 16]         147,456\n",
            "      BatchNorm2d-12          [-1, 128, 16, 16]             256\n",
            "             ReLU-13          [-1, 128, 16, 16]               0\n",
            "           Conv2d-14          [-1, 256, 16, 16]         294,912\n",
            "        MaxPool2d-15            [-1, 256, 8, 8]               0\n",
            "      BatchNorm2d-16            [-1, 256, 8, 8]             512\n",
            "             ReLU-17            [-1, 256, 8, 8]               0\n",
            "           Conv2d-18            [-1, 512, 8, 8]       1,179,648\n",
            "        MaxPool2d-19            [-1, 512, 4, 4]               0\n",
            "      BatchNorm2d-20            [-1, 512, 4, 4]           1,024\n",
            "             ReLU-21            [-1, 512, 4, 4]               0\n",
            "           Conv2d-22            [-1, 512, 4, 4]       2,359,296\n",
            "      BatchNorm2d-23            [-1, 512, 4, 4]           1,024\n",
            "             ReLU-24            [-1, 512, 4, 4]               0\n",
            "           Conv2d-25            [-1, 512, 4, 4]       2,359,296\n",
            "      BatchNorm2d-26            [-1, 512, 4, 4]           1,024\n",
            "             ReLU-27            [-1, 512, 4, 4]               0\n",
            "        MaxPool2d-28            [-1, 512, 1, 1]               0\n",
            "           Linear-29                   [-1, 10]           5,120\n",
            "================================================================\n",
            "Total params: 6,573,120\n",
            "Trainable params: 6,573,120\n",
            "Non-trainable params: 0\n",
            "----------------------------------------------------------------\n",
            "Input size (MB): 0.01\n",
            "Forward/backward pass size (MB): 6.44\n",
            "Params size (MB): 25.07\n",
            "Estimated Total Size (MB): 31.53\n",
            "----------------------------------------------------------------\n"
          ],
          "name": "stdout"
        }
      ]
    },
    {
      "cell_type": "markdown",
      "metadata": {
        "id": "fPMMSlLNuGi1",
        "colab_type": "text"
      },
      "source": [
        "## Transforms and DataLoaders"
      ]
    },
    {
      "cell_type": "code",
      "metadata": {
        "id": "G_ataeJk1B0Q",
        "colab_type": "code",
        "colab": {}
      },
      "source": [
        "train_transforms = album_train_transforms()\n",
        "test_transforms = album_test_transforms()\n",
        "loader = dataloaders.Loader(train_transforms, test_transforms, 'cifar10', batch_size=512)"
      ],
      "execution_count": 0,
      "outputs": []
    },
    {
      "cell_type": "code",
      "metadata": {
        "id": "SZtCVQ-3KXwt",
        "colab_type": "code",
        "outputId": "165593ed-0dd1-4820-fe05-a22b726830d7",
        "colab": {
          "base_uri": "https://localhost:8080/",
          "height": 67
        }
      },
      "source": [
        "train_dataloader  = loader.dataloader_train()\n",
        "test_dataloader = loader.dataloader_test()\n",
        "gradcam_dataloader = loader.dataloader_gradcam()"
      ],
      "execution_count": 9,
      "outputs": [
        {
          "output_type": "stream",
          "text": [
            "Files already downloaded and verified\n",
            "Files already downloaded and verified\n",
            "Files already downloaded and verified\n"
          ],
          "name": "stdout"
        }
      ]
    },
    {
      "cell_type": "markdown",
      "metadata": {
        "id": "4mGbAH4orDTd",
        "colab_type": "text"
      },
      "source": [
        "## LR Range Test"
      ]
    },
    {
      "cell_type": "code",
      "metadata": {
        "colab_type": "code",
        "outputId": "a85179b9-ed2f-4a06-9662-3a71552f513f",
        "id": "pFVzuq3krAB-",
        "colab": {
          "base_uri": "https://localhost:8080/",
          "height": 463
        }
      },
      "source": [
        "max_lr = 0.02\n",
        "min_lr = 0.001\n",
        "epoch = 10\n",
        "criterion = nn.NLLLoss()\n",
        "range_test = RangeTest(Net, epoch, max_lr, min_lr, criterion, train_dataloader)\n",
        "max_lr = range_test.lr_range_test()"
      ],
      "execution_count": 10,
      "outputs": [
        {
          "output_type": "stream",
          "text": [
            "epoch = 1 Lr = 0.001  Loss=1.432793378829956 Batch_id=97 Accuracy=37.84: 100%|██████████| 98/98 [00:21<00:00,  4.53it/s]\n",
            "epoch = 2 Lr = 0.0029  Loss=1.2067182064056396 Batch_id=97 Accuracy=43.23: 100%|██████████| 98/98 [00:21<00:00,  4.54it/s]\n",
            "epoch = 3 Lr = 0.0048  Loss=1.144605040550232 Batch_id=97 Accuracy=43.94: 100%|██████████| 98/98 [00:21<00:00,  4.54it/s]\n",
            "epoch = 4 Lr = 0.006699999999999999  Loss=1.2621564865112305 Batch_id=97 Accuracy=40.83: 100%|██████████| 98/98 [00:21<00:00,  4.48it/s]\n",
            "epoch = 5 Lr = 0.0086  Loss=1.3445887565612793 Batch_id=97 Accuracy=33.83: 100%|██████████| 98/98 [00:21<00:00,  4.55it/s]\n",
            "epoch = 6 Lr = 0.0105  Loss=1.627436637878418 Batch_id=97 Accuracy=24.70: 100%|██████████| 98/98 [00:21<00:00,  4.56it/s]\n",
            "epoch = 7 Lr = 0.012400000000000001  Loss=1.7166693210601807 Batch_id=97 Accuracy=21.78: 100%|██████████| 98/98 [00:21<00:00,  4.53it/s]\n",
            "epoch = 8 Lr = 0.014300000000000002  Loss=1.6927108764648438 Batch_id=97 Accuracy=23.25: 100%|██████████| 98/98 [00:21<00:00,  4.53it/s]\n",
            "epoch = 9 Lr = 0.016200000000000003  Loss=1.9386422634124756 Batch_id=97 Accuracy=16.85: 100%|██████████| 98/98 [00:21<00:00,  4.54it/s]\n",
            "epoch = 10 Lr = 0.0181  Loss=1.7237160205841064 Batch_id=97 Accuracy=20.33: 100%|██████████| 98/98 [00:21<00:00,  4.55it/s]\n"
          ],
          "name": "stderr"
        },
        {
          "output_type": "display_data",
          "data": {
            "image/png": "[encoded data removed]",
            "text/plain": [
              "<Figure size 432x288 with 1 Axes>"
            ]
          },
          "metadata": {
            "tags": [],
            "needs_background": "light"
          }
        }
      ]
    },
    {
      "cell_type": "markdown",
      "metadata": {
        "id": "U37isZQur9Gn",
        "colab_type": "text"
      },
      "source": [
        "## Actual Training 24 epochs"
      ]
    },
    {
      "cell_type": "code",
      "metadata": {
        "id": "VEFdfIs5eugZ",
        "colab_type": "code",
        "colab": {}
      },
      "source": [
        "epochs = 24\n",
        "criterion = nn.NLLLoss()\n",
        "optimizer = optim.SGD(Net.parameters(), lr=1e-3, momentum=0.9)"
      ],
      "execution_count": 0,
      "outputs": []
    },
    {
      "cell_type": "code",
      "metadata": {
        "id": "fmpbqJc15AZ6",
        "colab_type": "code",
        "colab": {}
      },
      "source": [
        "scheduler = OneCycleLR(optimizer, max_lr=0.015, steps_per_epoch=1,\n",
        "                       epochs=epochs, div_factor=8, final_div_factor=8,\n",
        "                       cycle_momentum=False, base_momentum=0.8, max_momentum=0.9,\n",
        "                       pct_start=0.2083)"
      ],
      "execution_count": 0,
      "outputs": []
    },
    {
      "cell_type": "code",
      "metadata": {
        "id": "rlMZwY68DmkN",
        "colab_type": "code",
        "colab": {
          "base_uri": "https://localhost:8080/",
          "height": 1000
        },
        "outputId": "aa782d43-dcca-498d-af82-38484745a5b0"
      },
      "source": [
        "run = RunModel(Net, train_dataloader, test_dataloader, optimizer, scheduler, epochs, criterion)\n",
        "run.train_test()\n"
      ],
      "execution_count": 13,
      "outputs": [
        {
          "output_type": "stream",
          "text": [
            "\r  0%|          | 0/98 [00:00<?, ?it/s]"
          ],
          "name": "stderr"
        },
        {
          "output_type": "stream",
          "text": [
            "\n",
            "Epoch 1:\n",
            "---------\n"
          ],
          "name": "stdout"
        },
        {
          "output_type": "stream",
          "text": [
            " Loss=1.3063268661499023 Train Accuracy=41.72%: 100%|██████████| 98/98 [00:21<00:00,  4.47it/s]\n",
            "  0%|          | 0/98 [00:00<?, ?it/s]"
          ],
          "name": "stderr"
        },
        {
          "output_type": "stream",
          "text": [
            "Testing: Average loss: 0.0027, Accuracy: 5141/10000 (51.41%)\n",
            "\n",
            "\n",
            "Epoch 2:\n",
            "---------\n"
          ],
          "name": "stdout"
        },
        {
          "output_type": "stream",
          "text": [
            " Loss=1.081944227218628 Train Accuracy=55.63%: 100%|██████████| 98/98 [00:22<00:00,  4.45it/s]\n",
            "  0%|          | 0/98 [00:00<?, ?it/s]"
          ],
          "name": "stderr"
        },
        {
          "output_type": "stream",
          "text": [
            "Testing: Average loss: 0.0022, Accuracy: 6020/10000 (60.20%)\n",
            "\n",
            "\n",
            "Epoch 3:\n",
            "---------\n"
          ],
          "name": "stdout"
        },
        {
          "output_type": "stream",
          "text": [
            " Loss=0.8290005922317505 Train Accuracy=66.98%: 100%|██████████| 98/98 [00:22<00:00,  4.45it/s]\n",
            "  0%|          | 0/98 [00:00<?, ?it/s]"
          ],
          "name": "stderr"
        },
        {
          "output_type": "stream",
          "text": [
            "Testing: Average loss: 0.0018, Accuracy: 6930/10000 (69.30%)\n",
            "\n",
            "\n",
            "Epoch 4:\n",
            "---------\n"
          ],
          "name": "stdout"
        },
        {
          "output_type": "stream",
          "text": [
            " Loss=0.6599124073982239 Train Accuracy=72.14%: 100%|██████████| 98/98 [00:21<00:00,  4.50it/s]\n",
            "  0%|          | 0/98 [00:00<?, ?it/s]"
          ],
          "name": "stderr"
        },
        {
          "output_type": "stream",
          "text": [
            "Testing: Average loss: 0.0015, Accuracy: 7313/10000 (73.13%)\n",
            "\n",
            "\n",
            "Epoch 5:\n",
            "---------\n"
          ],
          "name": "stdout"
        },
        {
          "output_type": "stream",
          "text": [
            " Loss=0.6129247546195984 Train Accuracy=75.28%: 100%|██████████| 98/98 [00:21<00:00,  4.55it/s]\n",
            "  0%|          | 0/98 [00:00<?, ?it/s]"
          ],
          "name": "stderr"
        },
        {
          "output_type": "stream",
          "text": [
            "Testing: Average loss: 0.0014, Accuracy: 7636/10000 (76.36%)\n",
            "\n",
            "\n",
            "Epoch 6:\n",
            "---------\n"
          ],
          "name": "stdout"
        },
        {
          "output_type": "stream",
          "text": [
            " Loss=0.5535839796066284 Train Accuracy=77.49%: 100%|██████████| 98/98 [00:21<00:00,  4.51it/s]\n",
            "  0%|          | 0/98 [00:00<?, ?it/s]"
          ],
          "name": "stderr"
        },
        {
          "output_type": "stream",
          "text": [
            "Testing: Average loss: 0.0013, Accuracy: 7728/10000 (77.28%)\n",
            "\n",
            "\n",
            "Epoch 7:\n",
            "---------\n"
          ],
          "name": "stdout"
        },
        {
          "output_type": "stream",
          "text": [
            " Loss=0.5333441495895386 Train Accuracy=79.04%: 100%|██████████| 98/98 [00:21<00:00,  4.53it/s]\n",
            "  0%|          | 0/98 [00:00<?, ?it/s]"
          ],
          "name": "stderr"
        },
        {
          "output_type": "stream",
          "text": [
            "Testing: Average loss: 0.0013, Accuracy: 7834/10000 (78.34%)\n",
            "\n",
            "\n",
            "Epoch 8:\n",
            "---------\n"
          ],
          "name": "stdout"
        },
        {
          "output_type": "stream",
          "text": [
            " Loss=0.5291565656661987 Train Accuracy=80.56%: 100%|██████████| 98/98 [00:21<00:00,  4.50it/s]\n",
            "  0%|          | 0/98 [00:00<?, ?it/s]"
          ],
          "name": "stderr"
        },
        {
          "output_type": "stream",
          "text": [
            "Testing: Average loss: 0.0013, Accuracy: 7860/10000 (78.60%)\n",
            "\n",
            "\n",
            "Epoch 9:\n",
            "---------\n"
          ],
          "name": "stdout"
        },
        {
          "output_type": "stream",
          "text": [
            " Loss=0.46794378757476807 Train Accuracy=81.49%: 100%|██████████| 98/98 [00:21<00:00,  4.46it/s]\n",
            "  0%|          | 0/98 [00:00<?, ?it/s]"
          ],
          "name": "stderr"
        },
        {
          "output_type": "stream",
          "text": [
            "Testing: Average loss: 0.0011, Accuracy: 8076/10000 (80.76%)\n",
            "\n",
            "\n",
            "Epoch 10:\n",
            "---------\n"
          ],
          "name": "stdout"
        },
        {
          "output_type": "stream",
          "text": [
            " Loss=0.4493483006954193 Train Accuracy=82.38%: 100%|██████████| 98/98 [00:22<00:00,  4.41it/s]\n",
            "  0%|          | 0/98 [00:00<?, ?it/s]"
          ],
          "name": "stderr"
        },
        {
          "output_type": "stream",
          "text": [
            "Testing: Average loss: 0.0011, Accuracy: 8127/10000 (81.27%)\n",
            "\n",
            "\n",
            "Epoch 11:\n",
            "---------\n"
          ],
          "name": "stdout"
        },
        {
          "output_type": "stream",
          "text": [
            " Loss=0.4333164691925049 Train Accuracy=83.32%: 100%|██████████| 98/98 [00:21<00:00,  4.49it/s]\n",
            "  0%|          | 0/98 [00:00<?, ?it/s]"
          ],
          "name": "stderr"
        },
        {
          "output_type": "stream",
          "text": [
            "Testing: Average loss: 0.0010, Accuracy: 8230/10000 (82.30%)\n",
            "\n",
            "\n",
            "Epoch 12:\n",
            "---------\n"
          ],
          "name": "stdout"
        },
        {
          "output_type": "stream",
          "text": [
            " Loss=0.3746100962162018 Train Accuracy=83.91%: 100%|██████████| 98/98 [00:21<00:00,  4.47it/s]\n",
            "  0%|          | 0/98 [00:00<?, ?it/s]"
          ],
          "name": "stderr"
        },
        {
          "output_type": "stream",
          "text": [
            "Testing: Average loss: 0.0011, Accuracy: 8123/10000 (81.23%)\n",
            "\n",
            "\n",
            "Epoch 13:\n",
            "---------\n"
          ],
          "name": "stdout"
        },
        {
          "output_type": "stream",
          "text": [
            " Loss=0.3709651529788971 Train Accuracy=84.69%: 100%|██████████| 98/98 [00:22<00:00,  4.44it/s]\n",
            "  0%|          | 0/98 [00:00<?, ?it/s]"
          ],
          "name": "stderr"
        },
        {
          "output_type": "stream",
          "text": [
            "Testing: Average loss: 0.0010, Accuracy: 8300/10000 (83.00%)\n",
            "\n",
            "\n",
            "Epoch 14:\n",
            "---------\n"
          ],
          "name": "stdout"
        },
        {
          "output_type": "stream",
          "text": [
            " Loss=0.35534730553627014 Train Accuracy=85.41%: 100%|██████████| 98/98 [00:21<00:00,  4.55it/s]\n",
            "  0%|          | 0/98 [00:00<?, ?it/s]"
          ],
          "name": "stderr"
        },
        {
          "output_type": "stream",
          "text": [
            "Testing: Average loss: 0.0010, Accuracy: 8403/10000 (84.03%)\n",
            "\n",
            "\n",
            "Epoch 15:\n",
            "---------\n"
          ],
          "name": "stdout"
        },
        {
          "output_type": "stream",
          "text": [
            " Loss=0.3570636808872223 Train Accuracy=86.30%: 100%|██████████| 98/98 [00:21<00:00,  4.49it/s]\n",
            "  0%|          | 0/98 [00:00<?, ?it/s]"
          ],
          "name": "stderr"
        },
        {
          "output_type": "stream",
          "text": [
            "Testing: Average loss: 0.0010, Accuracy: 8393/10000 (83.93%)\n",
            "\n",
            "\n",
            "Epoch 16:\n",
            "---------\n"
          ],
          "name": "stdout"
        },
        {
          "output_type": "stream",
          "text": [
            " Loss=0.35416609048843384 Train Accuracy=86.50%: 100%|██████████| 98/98 [00:22<00:00,  4.44it/s]\n",
            "  0%|          | 0/98 [00:00<?, ?it/s]"
          ],
          "name": "stderr"
        },
        {
          "output_type": "stream",
          "text": [
            "Testing: Average loss: 0.0009, Accuracy: 8474/10000 (84.74%)\n",
            "\n",
            "\n",
            "Epoch 17:\n",
            "---------\n"
          ],
          "name": "stdout"
        },
        {
          "output_type": "stream",
          "text": [
            " Loss=0.3421700596809387 Train Accuracy=87.28%: 100%|██████████| 98/98 [00:21<00:00,  4.51it/s]\n",
            "  0%|          | 0/98 [00:00<?, ?it/s]"
          ],
          "name": "stderr"
        },
        {
          "output_type": "stream",
          "text": [
            "Testing: Average loss: 0.0009, Accuracy: 8441/10000 (84.41%)\n",
            "\n",
            "\n",
            "Epoch 18:\n",
            "---------\n"
          ],
          "name": "stdout"
        },
        {
          "output_type": "stream",
          "text": [
            " Loss=0.30467185378074646 Train Accuracy=87.65%: 100%|██████████| 98/98 [00:21<00:00,  4.51it/s]\n",
            "  0%|          | 0/98 [00:00<?, ?it/s]"
          ],
          "name": "stderr"
        },
        {
          "output_type": "stream",
          "text": [
            "Testing: Average loss: 0.0009, Accuracy: 8465/10000 (84.65%)\n",
            "\n",
            "\n",
            "Epoch 19:\n",
            "---------\n"
          ],
          "name": "stdout"
        },
        {
          "output_type": "stream",
          "text": [
            " Loss=0.3167564868927002 Train Accuracy=87.94%: 100%|██████████| 98/98 [00:21<00:00,  4.58it/s]\n",
            "  0%|          | 0/98 [00:00<?, ?it/s]"
          ],
          "name": "stderr"
        },
        {
          "output_type": "stream",
          "text": [
            "Testing: Average loss: 0.0009, Accuracy: 8479/10000 (84.79%)\n",
            "\n",
            "\n",
            "Epoch 20:\n",
            "---------\n"
          ],
          "name": "stdout"
        },
        {
          "output_type": "stream",
          "text": [
            " Loss=0.2268838882446289 Train Accuracy=88.47%: 100%|██████████| 98/98 [00:21<00:00,  4.51it/s]\n",
            "  0%|          | 0/98 [00:00<?, ?it/s]"
          ],
          "name": "stderr"
        },
        {
          "output_type": "stream",
          "text": [
            "Testing: Average loss: 0.0009, Accuracy: 8456/10000 (84.56%)\n",
            "\n",
            "\n",
            "Epoch 21:\n",
            "---------\n"
          ],
          "name": "stdout"
        },
        {
          "output_type": "stream",
          "text": [
            " Loss=0.24761594831943512 Train Accuracy=89.02%: 100%|██████████| 98/98 [00:21<00:00,  4.55it/s]\n",
            "  0%|          | 0/98 [00:00<?, ?it/s]"
          ],
          "name": "stderr"
        },
        {
          "output_type": "stream",
          "text": [
            "Testing: Average loss: 0.0009, Accuracy: 8565/10000 (85.65%)\n",
            "\n",
            "\n",
            "Epoch 22:\n",
            "---------\n"
          ],
          "name": "stdout"
        },
        {
          "output_type": "stream",
          "text": [
            " Loss=0.23086391389369965 Train Accuracy=89.25%: 100%|██████████| 98/98 [00:21<00:00,  4.55it/s]\n",
            "  0%|          | 0/98 [00:00<?, ?it/s]"
          ],
          "name": "stderr"
        },
        {
          "output_type": "stream",
          "text": [
            "Testing: Average loss: 0.0009, Accuracy: 8534/10000 (85.34%)\n",
            "\n",
            "\n",
            "Epoch 23:\n",
            "---------\n"
          ],
          "name": "stdout"
        },
        {
          "output_type": "stream",
          "text": [
            " Loss=0.23788554966449738 Train Accuracy=89.69%: 100%|██████████| 98/98 [00:21<00:00,  4.51it/s]\n",
            "  0%|          | 0/98 [00:00<?, ?it/s]"
          ],
          "name": "stderr"
        },
        {
          "output_type": "stream",
          "text": [
            "Testing: Average loss: 0.0009, Accuracy: 8537/10000 (85.37%)\n",
            "\n",
            "\n",
            "Epoch 24:\n",
            "---------\n"
          ],
          "name": "stdout"
        },
        {
          "output_type": "stream",
          "text": [
            " Loss=0.21839749813079834 Train Accuracy=90.03%: 100%|██████████| 98/98 [00:21<00:00,  4.56it/s]\n"
          ],
          "name": "stderr"
        },
        {
          "output_type": "stream",
          "text": [
            "Testing: Average loss: 0.0009, Accuracy: 8567/10000 (85.67%)\n",
            "\n"
          ],
          "name": "stdout"
        }
      ]
    },
    {
      "cell_type": "markdown",
      "metadata": {
        "id": "zqfpswLqt7bR",
        "colab_type": "text"
      },
      "source": [
        "## Train-Test Accuracy and Loss Graphs"
      ]
    },
    {
      "cell_type": "code",
      "metadata": {
        "id": "Lmv-JkKNZciz",
        "colab_type": "code",
        "colab": {}
      },
      "source": [
        "train_acc, test_acc = run.get_accuracies()\n",
        "train_losses, test_losses = run.get_losses()"
      ],
      "execution_count": 0,
      "outputs": []
    },
    {
      "cell_type": "code",
      "metadata": {
        "id": "hjnKZ3WgO0dS",
        "colab_type": "code",
        "outputId": "7a4c7319-2e91-49da-995c-a7376dfea303",
        "colab": {
          "base_uri": "https://localhost:8080/",
          "height": 621
        }
      },
      "source": [
        "helper.plot_acc_graph(train_acc, test_acc, epochs)"
      ],
      "execution_count": 15,
      "outputs": [
        {
          "output_type": "display_data",
          "data": {
            "image/png": "[encoded data removed]",
            "text/plain": [
              "<Figure size 1080x720 with 1 Axes>"
            ]
          },
          "metadata": {
            "tags": [],
            "needs_background": "light"
          }
        }
      ]
    },
    {
      "cell_type": "code",
      "metadata": {
        "id": "y9Ze49NFVUxd",
        "colab_type": "code",
        "outputId": "97b29290-a9f0-488c-9193-86ea9cdd766f",
        "colab": {
          "base_uri": "https://localhost:8080/",
          "height": 621
        }
      },
      "source": [
        "helper.plot_loss_graph(train_losses, test_losses, epochs)"
      ],
      "execution_count": 16,
      "outputs": [
        {
          "output_type": "display_data",
          "data": {
            "image/png": "[encoded data removed]",
            "text/plain": [
              "<Figure size 1080x720 with 1 Axes>"
            ]
          },
          "metadata": {
            "tags": [],
            "needs_background": "light"
          }
        }
      ]
    },
    {
      "cell_type": "code",
      "metadata": {
        "id": "rbb5RCLUV2mg",
        "colab_type": "code",
        "colab": {}
      },
      "source": [
        ""
      ],
      "execution_count": 0,
      "outputs": []
    }
  ]
}