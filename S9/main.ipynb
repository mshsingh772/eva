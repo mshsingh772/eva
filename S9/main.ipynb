{
  "nbformat": 4,
  "nbformat_minor": 0,
  "metadata": {
    "kernelspec": {
      "name": "python3",
      "display_name": "Python 3"
    },
    "language_info": {
      "codemirror_mode": {
        "name": "ipython",
        "version": 3
      },
      "file_extension": ".py",
      "mimetype": "text/x-python",
      "name": "python",
      "nbconvert_exporter": "python",
      "pygments_lexer": "ipython3",
      "version": "3.6.6"
    },
    "colab": {
      "name": "main.ipynb",
      "provenance": [],
      "collapsed_sections": []
    },
    "accelerator": "GPU"
  },
  "cells": [
    {
      "cell_type": "code",
      "metadata": {
        "id": "iE2pRQzcpFHS",
        "colab_type": "code",
        "colab": {}
      },
      "source": [
        "from vision import dataloaders\n",
        "from vision.utils import Helper\n",
        "from vision.models.resnet import ResNet18\n",
        "from vision.imagetransforms import TorchTransforms,  album_transforms\n",
        "import torch\n",
        "from torchvision import  transforms"
      ],
      "execution_count": 0,
      "outputs": []
    },
    {
      "cell_type": "code",
      "metadata": {
        "id": "EsLVoButs4AQ",
        "colab_type": "code",
        "colab": {}
      },
      "source": [
        "helper = Helper()"
      ],
      "execution_count": 0,
      "outputs": []
    },
    {
      "cell_type": "code",
      "metadata": {
        "id": "yZugrTucs1dO",
        "colab_type": "code",
        "outputId": "b52e353d-3577-4cc2-bc68-08e783a975f3",
        "colab": {
          "base_uri": "https://localhost:8080/",
          "height": 34
        }
      },
      "source": [
        "mean, std = helper.get_mean_and_std('cifar10')"
      ],
      "execution_count": 11,
      "outputs": [
        {
          "output_type": "stream",
          "text": [
            "Files already downloaded and verified\n"
          ],
          "name": "stdout"
        }
      ]
    },
    {
      "cell_type": "code",
      "metadata": {
        "id": "03_cWGpN0JaP",
        "colab_type": "code",
        "colab": {}
      },
      "source": [
        "test_transforms = [ transforms.ToTensor(),\n",
        "                    transforms.Normalize(mean, std)\n",
        "                  ]"
      ],
      "execution_count": 0,
      "outputs": []
    },
    {
      "cell_type": "code",
      "metadata": {
        "id": "NgnEynj90-Q_",
        "colab_type": "code",
        "colab": {}
      },
      "source": [
        "torch_transforms = TorchTransforms(test_transforms)"
      ],
      "execution_count": 0,
      "outputs": []
    },
    {
      "cell_type": "code",
      "metadata": {
        "id": "G_ataeJk1B0Q",
        "colab_type": "code",
        "outputId": "ee93a3c2-c4f4-4e83-a04e-6bb4170f02a7",
        "colab": {
          "base_uri": "https://localhost:8080/",
          "height": 34
        }
      },
      "source": [
        "aub = album_transforms()"
      ],
      "execution_count": 14,
      "outputs": [
        {
          "output_type": "stream",
          "text": [
            "Files already downloaded and verified\n"
          ],
          "name": "stdout"
        }
      ]
    },
    {
      "cell_type": "code",
      "metadata": {
        "id": "Q7GsqZhLHe-5",
        "colab_type": "code",
        "colab": {}
      },
      "source": [
        "train_transforms = aub\n",
        "test_transforms = torch_transforms.testTransform()\n",
        "loader = dataloaders.Loader(train_transforms, test_transforms, 'cifar10')"
      ],
      "execution_count": 0,
      "outputs": []
    },
    {
      "cell_type": "code",
      "metadata": {
        "id": "SZtCVQ-3KXwt",
        "colab_type": "code",
        "outputId": "c4bb50a9-98a7-4999-ce0e-779313f32a11",
        "colab": {
          "base_uri": "https://localhost:8080/",
          "height": 50
        }
      },
      "source": [
        "train_dataloader  = loader.dataloader_train()\n",
        "test_dataloader = loader.dataloader_test()"
      ],
      "execution_count": 16,
      "outputs": [
        {
          "output_type": "stream",
          "text": [
            "Files already downloaded and verified\n",
            "Files already downloaded and verified\n"
          ],
          "name": "stdout"
        }
      ]
    },
    {
      "cell_type": "code",
      "metadata": {
        "id": "KJGUCt-ApH8T",
        "colab_type": "code",
        "colab": {}
      },
      "source": [
        "Net = ResNet18()"
      ],
      "execution_count": 0,
      "outputs": []
    },
    {
      "cell_type": "code",
      "metadata": {
        "id": "DxFaKebxOpUi",
        "colab_type": "code",
        "outputId": "d6d5d8aa-65fe-4b4e-9870-36167c079adc",
        "colab": {
          "base_uri": "https://localhost:8080/",
          "height": 1000
        }
      },
      "source": [
        "size =  (3, 32, 32)\n",
        "helper.model_summary(Net, size)"
      ],
      "execution_count": 18,
      "outputs": [
        {
          "output_type": "stream",
          "text": [
            "----------------------------------------------------------------\n",
            "        Layer (type)               Output Shape         Param #\n",
            "================================================================\n",
            "            Conv2d-1           [-1, 64, 32, 32]           1,728\n",
            "       BatchNorm2d-2           [-1, 64, 32, 32]             128\n",
            "            Conv2d-3           [-1, 64, 32, 32]          36,864\n",
            "       BatchNorm2d-4           [-1, 64, 32, 32]             128\n",
            "            Conv2d-5           [-1, 64, 32, 32]          36,864\n",
            "       BatchNorm2d-6           [-1, 64, 32, 32]             128\n",
            "        BasicBlock-7           [-1, 64, 32, 32]               0\n",
            "            Conv2d-8           [-1, 64, 32, 32]          36,864\n",
            "       BatchNorm2d-9           [-1, 64, 32, 32]             128\n",
            "           Conv2d-10           [-1, 64, 32, 32]          36,864\n",
            "      BatchNorm2d-11           [-1, 64, 32, 32]             128\n",
            "       BasicBlock-12           [-1, 64, 32, 32]               0\n",
            "           Conv2d-13          [-1, 128, 16, 16]          73,728\n",
            "      BatchNorm2d-14          [-1, 128, 16, 16]             256\n",
            "           Conv2d-15          [-1, 128, 16, 16]         147,456\n",
            "      BatchNorm2d-16          [-1, 128, 16, 16]             256\n",
            "           Conv2d-17          [-1, 128, 16, 16]           8,192\n",
            "      BatchNorm2d-18          [-1, 128, 16, 16]             256\n",
            "       BasicBlock-19          [-1, 128, 16, 16]               0\n",
            "           Conv2d-20          [-1, 128, 16, 16]         147,456\n",
            "      BatchNorm2d-21          [-1, 128, 16, 16]             256\n",
            "           Conv2d-22          [-1, 128, 16, 16]         147,456\n",
            "      BatchNorm2d-23          [-1, 128, 16, 16]             256\n",
            "       BasicBlock-24          [-1, 128, 16, 16]               0\n",
            "           Conv2d-25            [-1, 256, 8, 8]         294,912\n",
            "      BatchNorm2d-26            [-1, 256, 8, 8]             512\n",
            "           Conv2d-27            [-1, 256, 8, 8]         589,824\n",
            "      BatchNorm2d-28            [-1, 256, 8, 8]             512\n",
            "           Conv2d-29            [-1, 256, 8, 8]          32,768\n",
            "      BatchNorm2d-30            [-1, 256, 8, 8]             512\n",
            "       BasicBlock-31            [-1, 256, 8, 8]               0\n",
            "           Conv2d-32            [-1, 256, 8, 8]         589,824\n",
            "      BatchNorm2d-33            [-1, 256, 8, 8]             512\n",
            "           Conv2d-34            [-1, 256, 8, 8]         589,824\n",
            "      BatchNorm2d-35            [-1, 256, 8, 8]             512\n",
            "       BasicBlock-36            [-1, 256, 8, 8]               0\n",
            "           Conv2d-37            [-1, 512, 4, 4]       1,179,648\n",
            "      BatchNorm2d-38            [-1, 512, 4, 4]           1,024\n",
            "           Conv2d-39            [-1, 512, 4, 4]       2,359,296\n",
            "      BatchNorm2d-40            [-1, 512, 4, 4]           1,024\n",
            "           Conv2d-41            [-1, 512, 4, 4]         131,072\n",
            "      BatchNorm2d-42            [-1, 512, 4, 4]           1,024\n",
            "       BasicBlock-43            [-1, 512, 4, 4]               0\n",
            "           Conv2d-44            [-1, 512, 4, 4]       2,359,296\n",
            "      BatchNorm2d-45            [-1, 512, 4, 4]           1,024\n",
            "           Conv2d-46            [-1, 512, 4, 4]       2,359,296\n",
            "      BatchNorm2d-47            [-1, 512, 4, 4]           1,024\n",
            "       BasicBlock-48            [-1, 512, 4, 4]               0\n",
            "           Linear-49                   [-1, 10]           5,130\n",
            "================================================================\n",
            "Total params: 11,173,962\n",
            "Trainable params: 11,173,962\n",
            "Non-trainable params: 0\n",
            "----------------------------------------------------------------\n",
            "Input size (MB): 0.01\n",
            "Forward/backward pass size (MB): 11.25\n",
            "Params size (MB): 42.63\n",
            "Estimated Total Size (MB): 53.89\n",
            "----------------------------------------------------------------\n"
          ],
          "name": "stdout"
        }
      ]
    },
    {
      "cell_type": "code",
      "metadata": {
        "id": "vzo7uI-or2FJ",
        "colab_type": "code",
        "outputId": "62ac52df-bed4-414b-c93c-8b1f6635406d",
        "colab": {
          "base_uri": "https://localhost:8080/",
          "height": 1000
        }
      },
      "source": [
        "import torch.optim as optim\n",
        "import torch.nn as nn\n",
        "from vision.train_test_model import RunModel\n",
        "from torch.optim.lr_scheduler import OneCycleLR\n",
        "\n",
        "epochs = 25\n",
        "criterion = nn.CrossEntropyLoss()\n",
        "optimizer = optim.SGD(Net.parameters(), lr=0.001, momentum=0.9)\n",
        "scheduler = torch.optim.lr_scheduler.OneCycleLR(optimizer, max_lr=0.1, steps_per_epoch=len(train_dataloader), epochs=epochs)\n",
        "run = RunModel(Net, train_dataloader, test_dataloader, criterion, optimizer, scheduler, epochs)\n",
        "run.train_test()"
      ],
      "execution_count": 19,
      "outputs": [
        {
          "output_type": "stream",
          "text": [
            "Epoch: 1  Loss=1.471858263015747  Batch_id=1562  Train Accuracy=47.75: 100%|██████████| 1563/1563 [01:04<00:00, 24.38it/s]\n",
            "  0%|          | 0/1563 [00:00<?, ?it/s]"
          ],
          "name": "stderr"
        },
        {
          "output_type": "stream",
          "text": [
            "Accuracy of the network on the 10000 test images: 60.94 % \n",
            "\n"
          ],
          "name": "stdout"
        },
        {
          "output_type": "stream",
          "text": [
            "Epoch: 2  Loss=1.6047871112823486  Batch_id=1562  Train Accuracy=66.19: 100%|██████████| 1563/1563 [01:03<00:00, 24.48it/s]\n",
            "  0%|          | 0/1563 [00:00<?, ?it/s]"
          ],
          "name": "stderr"
        },
        {
          "output_type": "stream",
          "text": [
            "Accuracy of the network on the 10000 test images: 70.89 % \n",
            "\n"
          ],
          "name": "stdout"
        },
        {
          "output_type": "stream",
          "text": [
            "Epoch: 3  Loss=1.215652585029602  Batch_id=1562  Train Accuracy=74.01: 100%|██████████| 1563/1563 [01:04<00:00, 24.39it/s]\n",
            "  0%|          | 0/1563 [00:00<?, ?it/s]"
          ],
          "name": "stderr"
        },
        {
          "output_type": "stream",
          "text": [
            "Accuracy of the network on the 10000 test images: 77.37 % \n",
            "\n"
          ],
          "name": "stdout"
        },
        {
          "output_type": "stream",
          "text": [
            "Epoch: 4  Loss=0.8286715149879456  Batch_id=1562  Train Accuracy=78.31: 100%|██████████| 1563/1563 [01:03<00:00, 24.43it/s]\n",
            "  0%|          | 0/1563 [00:00<?, ?it/s]"
          ],
          "name": "stderr"
        },
        {
          "output_type": "stream",
          "text": [
            "Accuracy of the network on the 10000 test images: 78.52 % \n",
            "\n"
          ],
          "name": "stdout"
        },
        {
          "output_type": "stream",
          "text": [
            "Epoch: 5  Loss=1.1254284381866455  Batch_id=1562  Train Accuracy=81.80: 100%|██████████| 1563/1563 [01:04<00:00, 24.20it/s]\n",
            "  0%|          | 0/1563 [00:00<?, ?it/s]"
          ],
          "name": "stderr"
        },
        {
          "output_type": "stream",
          "text": [
            "Accuracy of the network on the 10000 test images: 81.10 % \n",
            "\n"
          ],
          "name": "stdout"
        },
        {
          "output_type": "stream",
          "text": [
            "Epoch: 6  Loss=0.46888288855552673  Batch_id=1562  Train Accuracy=84.25: 100%|██████████| 1563/1563 [01:04<00:00, 24.37it/s]\n",
            "  0%|          | 0/1563 [00:00<?, ?it/s]"
          ],
          "name": "stderr"
        },
        {
          "output_type": "stream",
          "text": [
            "Accuracy of the network on the 10000 test images: 83.83 % \n",
            "\n"
          ],
          "name": "stdout"
        },
        {
          "output_type": "stream",
          "text": [
            "Epoch: 7  Loss=1.0644371509552002  Batch_id=1562  Train Accuracy=86.50: 100%|██████████| 1563/1563 [01:04<00:00, 24.39it/s]\n",
            "  0%|          | 0/1563 [00:00<?, ?it/s]"
          ],
          "name": "stderr"
        },
        {
          "output_type": "stream",
          "text": [
            "Accuracy of the network on the 10000 test images: 83.90 % \n",
            "\n"
          ],
          "name": "stdout"
        },
        {
          "output_type": "stream",
          "text": [
            "Epoch: 8  Loss=0.4151014983654022  Batch_id=1562  Train Accuracy=88.31: 100%|██████████| 1563/1563 [01:04<00:00, 24.33it/s]\n",
            "  0%|          | 0/1563 [00:00<?, ?it/s]"
          ],
          "name": "stderr"
        },
        {
          "output_type": "stream",
          "text": [
            "Accuracy of the network on the 10000 test images: 84.75 % \n",
            "\n"
          ],
          "name": "stdout"
        },
        {
          "output_type": "stream",
          "text": [
            "Epoch: 9  Loss=0.25219660997390747  Batch_id=1562  Train Accuracy=89.86: 100%|██████████| 1563/1563 [01:04<00:00, 24.30it/s]\n",
            "  0%|          | 0/1563 [00:00<?, ?it/s]"
          ],
          "name": "stderr"
        },
        {
          "output_type": "stream",
          "text": [
            "Accuracy of the network on the 10000 test images: 85.72 % \n",
            "\n"
          ],
          "name": "stdout"
        },
        {
          "output_type": "stream",
          "text": [
            "Epoch: 10  Loss=0.3433130383491516  Batch_id=1562  Train Accuracy=91.14: 100%|██████████| 1563/1563 [01:04<00:00, 24.36it/s]\n",
            "  0%|          | 0/1563 [00:00<?, ?it/s]"
          ],
          "name": "stderr"
        },
        {
          "output_type": "stream",
          "text": [
            "Accuracy of the network on the 10000 test images: 85.86 % \n",
            "\n"
          ],
          "name": "stdout"
        },
        {
          "output_type": "stream",
          "text": [
            "Epoch: 11  Loss=0.35652244091033936  Batch_id=1562  Train Accuracy=92.49: 100%|██████████| 1563/1563 [01:04<00:00, 24.32it/s]\n",
            "  0%|          | 0/1563 [00:00<?, ?it/s]"
          ],
          "name": "stderr"
        },
        {
          "output_type": "stream",
          "text": [
            "Accuracy of the network on the 10000 test images: 85.91 % \n",
            "\n"
          ],
          "name": "stdout"
        },
        {
          "output_type": "stream",
          "text": [
            "Epoch: 12  Loss=0.08721426129341125  Batch_id=1562  Train Accuracy=93.53: 100%|██████████| 1563/1563 [01:03<00:00, 24.48it/s]\n",
            "  0%|          | 0/1563 [00:00<?, ?it/s]"
          ],
          "name": "stderr"
        },
        {
          "output_type": "stream",
          "text": [
            "Accuracy of the network on the 10000 test images: 86.87 % \n",
            "\n"
          ],
          "name": "stdout"
        },
        {
          "output_type": "stream",
          "text": [
            "Epoch: 13  Loss=0.08263593912124634  Batch_id=1562  Train Accuracy=94.50: 100%|██████████| 1563/1563 [01:03<00:00, 24.48it/s]\n",
            "  0%|          | 0/1563 [00:00<?, ?it/s]"
          ],
          "name": "stderr"
        },
        {
          "output_type": "stream",
          "text": [
            "Accuracy of the network on the 10000 test images: 86.37 % \n",
            "\n"
          ],
          "name": "stdout"
        },
        {
          "output_type": "stream",
          "text": [
            "Epoch: 14  Loss=0.06579446792602539  Batch_id=1562  Train Accuracy=95.30: 100%|██████████| 1563/1563 [01:03<00:00, 24.57it/s]\n",
            "  0%|          | 0/1563 [00:00<?, ?it/s]"
          ],
          "name": "stderr"
        },
        {
          "output_type": "stream",
          "text": [
            "Accuracy of the network on the 10000 test images: 86.83 % \n",
            "\n"
          ],
          "name": "stdout"
        },
        {
          "output_type": "stream",
          "text": [
            "Epoch: 15  Loss=0.15060892701148987  Batch_id=1562  Train Accuracy=95.89: 100%|██████████| 1563/1563 [01:04<00:00, 24.35it/s]\n",
            "  0%|          | 0/1563 [00:00<?, ?it/s]"
          ],
          "name": "stderr"
        },
        {
          "output_type": "stream",
          "text": [
            "Accuracy of the network on the 10000 test images: 87.71 % \n",
            "\n"
          ],
          "name": "stdout"
        },
        {
          "output_type": "stream",
          "text": [
            "Epoch: 16  Loss=0.05853039026260376  Batch_id=1562  Train Accuracy=96.71: 100%|██████████| 1563/1563 [01:04<00:00, 24.21it/s]\n",
            "  0%|          | 0/1563 [00:00<?, ?it/s]"
          ],
          "name": "stderr"
        },
        {
          "output_type": "stream",
          "text": [
            "Accuracy of the network on the 10000 test images: 87.97 % \n",
            "\n"
          ],
          "name": "stdout"
        },
        {
          "output_type": "stream",
          "text": [
            "Epoch: 17  Loss=0.009811162948608398  Batch_id=1562  Train Accuracy=97.19: 100%|██████████| 1563/1563 [01:04<00:00, 24.24it/s]\n",
            "  0%|          | 0/1563 [00:00<?, ?it/s]"
          ],
          "name": "stderr"
        },
        {
          "output_type": "stream",
          "text": [
            "Accuracy of the network on the 10000 test images: 87.38 % \n",
            "\n"
          ],
          "name": "stdout"
        },
        {
          "output_type": "stream",
          "text": [
            "Epoch: 18  Loss=0.013269126415252686  Batch_id=1562  Train Accuracy=97.84: 100%|██████████| 1563/1563 [01:03<00:00, 24.57it/s]\n",
            "  0%|          | 0/1563 [00:00<?, ?it/s]"
          ],
          "name": "stderr"
        },
        {
          "output_type": "stream",
          "text": [
            "Accuracy of the network on the 10000 test images: 88.09 % \n",
            "\n"
          ],
          "name": "stdout"
        },
        {
          "output_type": "stream",
          "text": [
            "Epoch: 19  Loss=0.011887848377227783  Batch_id=1562  Train Accuracy=98.38: 100%|██████████| 1563/1563 [01:03<00:00, 24.61it/s]\n",
            "  0%|          | 0/1563 [00:00<?, ?it/s]"
          ],
          "name": "stderr"
        },
        {
          "output_type": "stream",
          "text": [
            "Accuracy of the network on the 10000 test images: 88.64 % \n",
            "\n"
          ],
          "name": "stdout"
        },
        {
          "output_type": "stream",
          "text": [
            "Epoch: 20  Loss=0.0007535815238952637  Batch_id=1562  Train Accuracy=98.72: 100%|██████████| 1563/1563 [01:03<00:00, 24.60it/s]\n",
            "  0%|          | 0/1563 [00:00<?, ?it/s]"
          ],
          "name": "stderr"
        },
        {
          "output_type": "stream",
          "text": [
            "Accuracy of the network on the 10000 test images: 89.10 % \n",
            "\n"
          ],
          "name": "stdout"
        },
        {
          "output_type": "stream",
          "text": [
            "Epoch: 21  Loss=0.0006641149520874023  Batch_id=1562  Train Accuracy=99.08: 100%|██████████| 1563/1563 [01:04<00:00, 24.34it/s]\n",
            "  0%|          | 0/1563 [00:00<?, ?it/s]"
          ],
          "name": "stderr"
        },
        {
          "output_type": "stream",
          "text": [
            "Accuracy of the network on the 10000 test images: 89.41 % \n",
            "\n"
          ],
          "name": "stdout"
        },
        {
          "output_type": "stream",
          "text": [
            "Epoch: 22  Loss=0.004684925079345703  Batch_id=1562  Train Accuracy=99.37: 100%|██████████| 1563/1563 [01:04<00:00, 24.15it/s]\n",
            "  0%|          | 0/1563 [00:00<?, ?it/s]"
          ],
          "name": "stderr"
        },
        {
          "output_type": "stream",
          "text": [
            "Accuracy of the network on the 10000 test images: 89.80 % \n",
            "\n"
          ],
          "name": "stdout"
        },
        {
          "output_type": "stream",
          "text": [
            "Epoch: 23  Loss=6.723403930664062e-05  Batch_id=1562  Train Accuracy=99.50: 100%|██████████| 1563/1563 [01:04<00:00, 24.40it/s]\n",
            "  0%|          | 0/1563 [00:00<?, ?it/s]"
          ],
          "name": "stderr"
        },
        {
          "output_type": "stream",
          "text": [
            "Accuracy of the network on the 10000 test images: 89.64 % \n",
            "\n"
          ],
          "name": "stdout"
        },
        {
          "output_type": "stream",
          "text": [
            "Epoch: 24  Loss=0.0008834004402160645  Batch_id=1562  Train Accuracy=99.67: 100%|██████████| 1563/1563 [01:04<00:00, 24.33it/s]\n",
            "  0%|          | 0/1563 [00:00<?, ?it/s]"
          ],
          "name": "stderr"
        },
        {
          "output_type": "stream",
          "text": [
            "Accuracy of the network on the 10000 test images: 89.83 % \n",
            "\n"
          ],
          "name": "stdout"
        },
        {
          "output_type": "stream",
          "text": [
            "Epoch: 25  Loss=0.00027763843536376953  Batch_id=1562  Train Accuracy=99.66: 100%|██████████| 1563/1563 [01:03<00:00, 24.54it/s]\n"
          ],
          "name": "stderr"
        },
        {
          "output_type": "stream",
          "text": [
            "Accuracy of the network on the 10000 test images: 89.80 % \n",
            "\n"
          ],
          "name": "stdout"
        }
      ]
    },
    {
      "cell_type": "code",
      "metadata": {
        "id": "FE-vK6hAs3xN",
        "colab_type": "code",
        "colab": {}
      },
      "source": [
        "dataiter = iter(test_dataloader)\n",
        "images, labels = dataiter.next()"
      ],
      "execution_count": 0,
      "outputs": []
    },
    {
      "cell_type": "code",
      "metadata": {
        "id": "fs0s_Fv-V2xs",
        "colab_type": "code",
        "outputId": "3a157a3e-57d4-4078-ea2e-f50ebcf3ff35",
        "colab": {
          "base_uri": "https://localhost:8080/",
          "height": 241
        }
      },
      "source": [
        "import PIL\n",
        "import matplotlib.pyplot as plt\n",
        "import numpy as np\n",
        "import torchvision\n",
        "import torchvision.transforms as transforms\n",
        "\n",
        "trans = transforms.ToPILImage()\n",
        "pil_img = trans(torchvision.utils.make_grid(images[6]))\n",
        "torch_img, norm_torch_img = helper.transform_to_device(pil_img)\n",
        "helper.plot_images(torch_img, norm_torch_img, Net)"
      ],
      "execution_count": 21,
      "outputs": [
        {
          "output_type": "stream",
          "text": [
            "/usr/local/lib/python3.6/dist-packages/torch/nn/functional.py:2416: UserWarning: nn.functional.upsample is deprecated. Use nn.functional.interpolate instead.\n",
            "  warnings.warn(\"nn.functional.upsample is deprecated. Use nn.functional.interpolate instead.\")\n"
          ],
          "name": "stderr"
        },
        {
          "output_type": "display_data",
          "data": {
            "image/png": "[encoded data removed]",
            "text/plain": [
              "<Figure size 432x432 with 1 Axes>"
            ]
          },
          "metadata": {
            "tags": []
          }
        }
      ]
    },
    {
      "cell_type": "code",
      "metadata": {
        "id": "rbb5RCLUV2mg",
        "colab_type": "code",
        "colab": {}
      },
      "source": [
        ""
      ],
      "execution_count": 0,
      "outputs": []
    }
  ]
}