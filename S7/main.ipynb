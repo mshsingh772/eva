{
  "nbformat": 4,
  "nbformat_minor": 0,
  "metadata": {
    "kernelspec": {
      "name": "python3",
      "display_name": "Python 3"
    },
    "language_info": {
      "codemirror_mode": {
        "name": "ipython",
        "version": 3
      },
      "file_extension": ".py",
      "mimetype": "text/x-python",
      "name": "python",
      "nbconvert_exporter": "python",
      "pygments_lexer": "ipython3",
      "version": "3.6.6"
    },
    "colab": {
      "name": "Modularize S7.ipynb",
      "provenance": [],
      "collapsed_sections": []
    },
    "accelerator": "GPU"
  },
  "cells": [
    {
      "cell_type": "code",
      "metadata": {
        "id": "iE2pRQzcpFHS",
        "colab_type": "code",
        "colab": {}
      },
      "source": [
        "from vision import cifar10, imagetransforms, dataloader, train_test_model"
      ],
      "execution_count": 0,
      "outputs": []
    },
    {
      "cell_type": "code",
      "metadata": {
        "id": "KJGUCt-ApH8T",
        "colab_type": "code",
        "colab": {}
      },
      "source": [
        "Net = cifar10.Cifar10Model()"
      ],
      "execution_count": 0,
      "outputs": []
    },
    {
      "cell_type": "code",
      "metadata": {
        "id": "8lqjcCFnpWJW",
        "colab_type": "code",
        "outputId": "7fd24d67-c289-4e3a-8777-85e1ec9566eb",
        "colab": {
          "base_uri": "https://localhost:8080/",
          "height": 941
        }
      },
      "source": [
        "Net.summary()"
      ],
      "execution_count": 6,
      "outputs": [
        {
          "output_type": "stream",
          "text": [
            "cuda\n",
            "----------------------------------------------------------------\n",
            "        Layer (type)               Output Shape         Param #\n",
            "================================================================\n",
            "            Conv2d-1           [-1, 32, 32, 32]             864\n",
            "       BatchNorm2d-2           [-1, 32, 32, 32]              64\n",
            "           Dropout-3           [-1, 32, 32, 32]               0\n",
            "              ReLU-4           [-1, 32, 32, 32]               0\n",
            "            Conv2d-5           [-1, 64, 32, 32]          18,432\n",
            "       BatchNorm2d-6           [-1, 64, 32, 32]             128\n",
            "           Dropout-7           [-1, 64, 32, 32]               0\n",
            "              ReLU-8           [-1, 64, 32, 32]               0\n",
            "         MaxPool2d-9           [-1, 64, 16, 16]               0\n",
            "           Conv2d-10           [-1, 64, 16, 16]             576\n",
            "      BatchNorm2d-11           [-1, 64, 16, 16]             128\n",
            "          Dropout-12           [-1, 64, 16, 16]               0\n",
            "             ReLU-13           [-1, 64, 16, 16]               0\n",
            "           Conv2d-14           [-1, 32, 16, 16]           2,080\n",
            "      BatchNorm2d-15           [-1, 32, 16, 16]              64\n",
            "          Dropout-16           [-1, 32, 16, 16]               0\n",
            "             ReLU-17           [-1, 32, 16, 16]               0\n",
            "           Conv2d-18           [-1, 64, 16, 16]          18,432\n",
            "      BatchNorm2d-19           [-1, 64, 16, 16]             128\n",
            "          Dropout-20           [-1, 64, 16, 16]               0\n",
            "             ReLU-21           [-1, 64, 16, 16]               0\n",
            "        MaxPool2d-22             [-1, 64, 8, 8]               0\n",
            "           Conv2d-23            [-1, 128, 8, 8]          73,728\n",
            "      BatchNorm2d-24            [-1, 128, 8, 8]             256\n",
            "          Dropout-25            [-1, 128, 8, 8]               0\n",
            "             ReLU-26            [-1, 128, 8, 8]               0\n",
            "           Conv2d-27            [-1, 128, 8, 8]         147,456\n",
            "      BatchNorm2d-28            [-1, 128, 8, 8]             256\n",
            "          Dropout-29            [-1, 128, 8, 8]               0\n",
            "             ReLU-30            [-1, 128, 8, 8]               0\n",
            "        MaxPool2d-31            [-1, 128, 4, 4]               0\n",
            "           Conv2d-32            [-1, 128, 4, 4]         147,456\n",
            "      BatchNorm2d-33            [-1, 128, 4, 4]             256\n",
            "          Dropout-34            [-1, 128, 4, 4]               0\n",
            "             ReLU-35            [-1, 128, 4, 4]               0\n",
            "           Conv2d-36            [-1, 256, 4, 4]         294,912\n",
            "      BatchNorm2d-37            [-1, 256, 4, 4]             512\n",
            "          Dropout-38            [-1, 256, 4, 4]               0\n",
            "             ReLU-39            [-1, 256, 4, 4]               0\n",
            "        AvgPool2d-40            [-1, 256, 1, 1]               0\n",
            "           Conv2d-41             [-1, 10, 1, 1]           2,560\n",
            "================================================================\n",
            "Total params: 708,288\n",
            "Trainable params: 708,288\n",
            "Non-trainable params: 0\n",
            "----------------------------------------------------------------\n",
            "Input size (MB): 0.01\n",
            "Forward/backward pass size (MB): 5.11\n",
            "Params size (MB): 2.70\n",
            "Estimated Total Size (MB): 7.83\n",
            "----------------------------------------------------------------\n"
          ],
          "name": "stdout"
        }
      ]
    },
    {
      "cell_type": "code",
      "metadata": {
        "id": "vHkEnqSBp5pr",
        "colab_type": "code",
        "outputId": "c84104e4-70de-440b-9e6e-c76f5bf77a72",
        "colab": {
          "base_uri": "https://localhost:8080/",
          "height": 50
        }
      },
      "source": [
        "train = True\n",
        "test = True\n",
        "train_transforms = imagetransforms.trainTransform()\n",
        "test_transforms = imagetransforms.testTransform()\n",
        "\n",
        "train_dataloader = dataloader.dataloader_train(train, train_transforms)\n",
        "test_dataloader = dataloader.dataloader_test(test, test_transforms)"
      ],
      "execution_count": 7,
      "outputs": [
        {
          "output_type": "stream",
          "text": [
            "Files already downloaded and verified\n",
            "Files already downloaded and verified\n"
          ],
          "name": "stdout"
        }
      ]
    },
    {
      "cell_type": "code",
      "metadata": {
        "id": "vzo7uI-or2FJ",
        "colab_type": "code",
        "outputId": "aa2382e1-80eb-404d-fe05-3808da164c21",
        "colab": {
          "base_uri": "https://localhost:8080/",
          "height": 1000
        }
      },
      "source": [
        "epochs = 35\n",
        "train_test_model.run_model(Net, train_dataloader, test_dataloader, epochs)"
      ],
      "execution_count": 8,
      "outputs": [
        {
          "output_type": "stream",
          "text": [
            "Epoch: 1  Loss=1.821495771408081  Batch_id=1562  Accuracy=39.61: 100%|██████████| 1563/1563 [00:29<00:00, 52.96it/s]\n",
            "  0%|          | 0/1563 [00:00<?, ?it/s]"
          ],
          "name": "stderr"
        },
        {
          "output_type": "stream",
          "text": [
            "Accuracy of the network on the 10000 test images: 50 % \n",
            "\n"
          ],
          "name": "stdout"
        },
        {
          "output_type": "stream",
          "text": [
            "Epoch: 2  Loss=1.5066167116165161  Batch_id=1562  Accuracy=55.10: 100%|██████████| 1563/1563 [00:28<00:00, 54.42it/s]\n",
            "  0%|          | 0/1563 [00:00<?, ?it/s]"
          ],
          "name": "stderr"
        },
        {
          "output_type": "stream",
          "text": [
            "Accuracy of the network on the 10000 test images: 58 % \n",
            "\n"
          ],
          "name": "stdout"
        },
        {
          "output_type": "stream",
          "text": [
            "Epoch: 3  Loss=1.3587497472763062  Batch_id=1562  Accuracy=61.77: 100%|██████████| 1563/1563 [00:28<00:00, 55.43it/s]\n",
            "  0%|          | 0/1563 [00:00<?, ?it/s]"
          ],
          "name": "stderr"
        },
        {
          "output_type": "stream",
          "text": [
            "Accuracy of the network on the 10000 test images: 63 % \n",
            "\n"
          ],
          "name": "stdout"
        },
        {
          "output_type": "stream",
          "text": [
            "Epoch: 4  Loss=1.0880931615829468  Batch_id=1562  Accuracy=66.06: 100%|██████████| 1563/1563 [00:28<00:00, 54.25it/s]\n",
            "  0%|          | 0/1563 [00:00<?, ?it/s]"
          ],
          "name": "stderr"
        },
        {
          "output_type": "stream",
          "text": [
            "Accuracy of the network on the 10000 test images: 66 % \n",
            "\n"
          ],
          "name": "stdout"
        },
        {
          "output_type": "stream",
          "text": [
            "Epoch: 5  Loss=1.103078842163086  Batch_id=1562  Accuracy=69.40: 100%|██████████| 1563/1563 [00:28<00:00, 55.21it/s]\n",
            "  0%|          | 0/1563 [00:00<?, ?it/s]"
          ],
          "name": "stderr"
        },
        {
          "output_type": "stream",
          "text": [
            "Accuracy of the network on the 10000 test images: 69 % \n",
            "\n"
          ],
          "name": "stdout"
        },
        {
          "output_type": "stream",
          "text": [
            "Epoch: 6  Loss=1.2164249420166016  Batch_id=1562  Accuracy=71.72: 100%|██████████| 1563/1563 [00:28<00:00, 55.27it/s]\n",
            "  0%|          | 0/1563 [00:00<?, ?it/s]"
          ],
          "name": "stderr"
        },
        {
          "output_type": "stream",
          "text": [
            "Accuracy of the network on the 10000 test images: 72 % \n",
            "\n"
          ],
          "name": "stdout"
        },
        {
          "output_type": "stream",
          "text": [
            "Epoch: 7  Loss=1.0849730968475342  Batch_id=1562  Accuracy=73.49: 100%|██████████| 1563/1563 [00:28<00:00, 55.77it/s]\n",
            "  0%|          | 0/1563 [00:00<?, ?it/s]"
          ],
          "name": "stderr"
        },
        {
          "output_type": "stream",
          "text": [
            "Accuracy of the network on the 10000 test images: 73 % \n",
            "\n"
          ],
          "name": "stdout"
        },
        {
          "output_type": "stream",
          "text": [
            "Epoch: 8  Loss=1.235733151435852  Batch_id=1562  Accuracy=75.15: 100%|██████████| 1563/1563 [00:32<00:00, 48.52it/s]\n",
            "  0%|          | 0/1563 [00:00<?, ?it/s]"
          ],
          "name": "stderr"
        },
        {
          "output_type": "stream",
          "text": [
            "Accuracy of the network on the 10000 test images: 73 % \n",
            "\n"
          ],
          "name": "stdout"
        },
        {
          "output_type": "stream",
          "text": [
            "Epoch: 9  Loss=0.918618381023407  Batch_id=1562  Accuracy=76.18: 100%|██████████| 1563/1563 [00:30<00:00, 51.38it/s]\n",
            "  0%|          | 0/1563 [00:00<?, ?it/s]"
          ],
          "name": "stderr"
        },
        {
          "output_type": "stream",
          "text": [
            "Accuracy of the network on the 10000 test images: 75 % \n",
            "\n"
          ],
          "name": "stdout"
        },
        {
          "output_type": "stream",
          "text": [
            "Epoch: 10  Loss=1.2104958295822144  Batch_id=1562  Accuracy=77.31: 100%|██████████| 1563/1563 [00:30<00:00, 51.14it/s]\n",
            "  0%|          | 0/1563 [00:00<?, ?it/s]"
          ],
          "name": "stderr"
        },
        {
          "output_type": "stream",
          "text": [
            "Accuracy of the network on the 10000 test images: 75 % \n",
            "\n"
          ],
          "name": "stdout"
        },
        {
          "output_type": "stream",
          "text": [
            "Epoch: 11  Loss=0.8503749370574951  Batch_id=1562  Accuracy=78.19: 100%|██████████| 1563/1563 [00:31<00:00, 50.31it/s]\n",
            "  0%|          | 0/1563 [00:00<?, ?it/s]"
          ],
          "name": "stderr"
        },
        {
          "output_type": "stream",
          "text": [
            "Accuracy of the network on the 10000 test images: 76 % \n",
            "\n"
          ],
          "name": "stdout"
        },
        {
          "output_type": "stream",
          "text": [
            "Epoch: 12  Loss=0.8600908517837524  Batch_id=1562  Accuracy=78.69: 100%|██████████| 1563/1563 [00:31<00:00, 54.91it/s]\n",
            "  0%|          | 0/1563 [00:00<?, ?it/s]"
          ],
          "name": "stderr"
        },
        {
          "output_type": "stream",
          "text": [
            "Accuracy of the network on the 10000 test images: 76 % \n",
            "\n"
          ],
          "name": "stdout"
        },
        {
          "output_type": "stream",
          "text": [
            "Epoch: 13  Loss=0.8016016483306885  Batch_id=1562  Accuracy=79.32: 100%|██████████| 1563/1563 [00:30<00:00, 50.90it/s]\n",
            "  0%|          | 0/1563 [00:00<?, ?it/s]"
          ],
          "name": "stderr"
        },
        {
          "output_type": "stream",
          "text": [
            "Accuracy of the network on the 10000 test images: 77 % \n",
            "\n"
          ],
          "name": "stdout"
        },
        {
          "output_type": "stream",
          "text": [
            "Epoch: 14  Loss=0.8986204862594604  Batch_id=1562  Accuracy=80.01: 100%|██████████| 1563/1563 [00:30<00:00, 50.95it/s]\n",
            "  0%|          | 0/1563 [00:00<?, ?it/s]"
          ],
          "name": "stderr"
        },
        {
          "output_type": "stream",
          "text": [
            "Accuracy of the network on the 10000 test images: 77 % \n",
            "\n"
          ],
          "name": "stdout"
        },
        {
          "output_type": "stream",
          "text": [
            "Epoch: 15  Loss=1.0518001317977905  Batch_id=1562  Accuracy=81.03: 100%|██████████| 1563/1563 [00:30<00:00, 50.69it/s]\n",
            "  0%|          | 0/1563 [00:00<?, ?it/s]"
          ],
          "name": "stderr"
        },
        {
          "output_type": "stream",
          "text": [
            "Accuracy of the network on the 10000 test images: 77 % \n",
            "\n"
          ],
          "name": "stdout"
        },
        {
          "output_type": "stream",
          "text": [
            "Epoch: 16  Loss=0.8369182348251343  Batch_id=1562  Accuracy=81.18: 100%|██████████| 1563/1563 [00:30<00:00, 51.22it/s]\n",
            "  0%|          | 0/1563 [00:00<?, ?it/s]"
          ],
          "name": "stderr"
        },
        {
          "output_type": "stream",
          "text": [
            "Accuracy of the network on the 10000 test images: 78 % \n",
            "\n"
          ],
          "name": "stdout"
        },
        {
          "output_type": "stream",
          "text": [
            "Epoch: 17  Loss=0.9765891432762146  Batch_id=1562  Accuracy=81.86: 100%|██████████| 1563/1563 [00:30<00:00, 51.31it/s]\n",
            "  0%|          | 0/1563 [00:00<?, ?it/s]"
          ],
          "name": "stderr"
        },
        {
          "output_type": "stream",
          "text": [
            "Accuracy of the network on the 10000 test images: 78 % \n",
            "\n"
          ],
          "name": "stdout"
        },
        {
          "output_type": "stream",
          "text": [
            "Epoch: 18  Loss=0.6476538777351379  Batch_id=1562  Accuracy=81.86: 100%|██████████| 1563/1563 [00:30<00:00, 51.47it/s]\n",
            "  0%|          | 0/1563 [00:00<?, ?it/s]"
          ],
          "name": "stderr"
        },
        {
          "output_type": "stream",
          "text": [
            "Accuracy of the network on the 10000 test images: 78 % \n",
            "\n"
          ],
          "name": "stdout"
        },
        {
          "output_type": "stream",
          "text": [
            "Epoch: 19  Loss=0.860188901424408  Batch_id=1562  Accuracy=82.26: 100%|██████████| 1563/1563 [00:30<00:00, 50.96it/s]\n",
            "  0%|          | 0/1563 [00:00<?, ?it/s]"
          ],
          "name": "stderr"
        },
        {
          "output_type": "stream",
          "text": [
            "Accuracy of the network on the 10000 test images: 79 % \n",
            "\n"
          ],
          "name": "stdout"
        },
        {
          "output_type": "stream",
          "text": [
            "Epoch: 20  Loss=0.9028530716896057  Batch_id=1562  Accuracy=82.91: 100%|██████████| 1563/1563 [00:30<00:00, 51.54it/s]\n",
            "  0%|          | 0/1563 [00:00<?, ?it/s]"
          ],
          "name": "stderr"
        },
        {
          "output_type": "stream",
          "text": [
            "Accuracy of the network on the 10000 test images: 79 % \n",
            "\n"
          ],
          "name": "stdout"
        },
        {
          "output_type": "stream",
          "text": [
            "Epoch: 21  Loss=0.6404858231544495  Batch_id=1562  Accuracy=83.23: 100%|██████████| 1563/1563 [00:30<00:00, 51.18it/s]\n",
            "  0%|          | 0/1563 [00:00<?, ?it/s]"
          ],
          "name": "stderr"
        },
        {
          "output_type": "stream",
          "text": [
            "Accuracy of the network on the 10000 test images: 79 % \n",
            "\n"
          ],
          "name": "stdout"
        },
        {
          "output_type": "stream",
          "text": [
            "Epoch: 22  Loss=1.1214139461517334  Batch_id=1562  Accuracy=83.32: 100%|██████████| 1563/1563 [00:30<00:00, 51.27it/s]\n",
            "  0%|          | 0/1563 [00:00<?, ?it/s]"
          ],
          "name": "stderr"
        },
        {
          "output_type": "stream",
          "text": [
            "Accuracy of the network on the 10000 test images: 79 % \n",
            "\n"
          ],
          "name": "stdout"
        },
        {
          "output_type": "stream",
          "text": [
            "Epoch: 23  Loss=0.7024999856948853  Batch_id=1562  Accuracy=83.76: 100%|██████████| 1563/1563 [00:30<00:00, 51.26it/s]\n",
            "  0%|          | 0/1563 [00:00<?, ?it/s]"
          ],
          "name": "stderr"
        },
        {
          "output_type": "stream",
          "text": [
            "Accuracy of the network on the 10000 test images: 80 % \n",
            "\n"
          ],
          "name": "stdout"
        },
        {
          "output_type": "stream",
          "text": [
            "Epoch: 24  Loss=0.4697137773036957  Batch_id=1562  Accuracy=84.14: 100%|██████████| 1563/1563 [00:30<00:00, 51.14it/s]\n",
            "  0%|          | 0/1563 [00:00<?, ?it/s]"
          ],
          "name": "stderr"
        },
        {
          "output_type": "stream",
          "text": [
            "Accuracy of the network on the 10000 test images: 80 % \n",
            "\n"
          ],
          "name": "stdout"
        },
        {
          "output_type": "stream",
          "text": [
            "Epoch: 25  Loss=0.7758709788322449  Batch_id=1562  Accuracy=84.20: 100%|██████████| 1563/1563 [00:30<00:00, 51.40it/s]\n",
            "  0%|          | 0/1563 [00:00<?, ?it/s]"
          ],
          "name": "stderr"
        },
        {
          "output_type": "stream",
          "text": [
            "Accuracy of the network on the 10000 test images: 80 % \n",
            "\n"
          ],
          "name": "stdout"
        },
        {
          "output_type": "stream",
          "text": [
            "Epoch: 26  Loss=0.7656921148300171  Batch_id=1562  Accuracy=84.69: 100%|██████████| 1563/1563 [00:30<00:00, 51.71it/s]\n",
            "  0%|          | 0/1563 [00:00<?, ?it/s]"
          ],
          "name": "stderr"
        },
        {
          "output_type": "stream",
          "text": [
            "Accuracy of the network on the 10000 test images: 80 % \n",
            "\n"
          ],
          "name": "stdout"
        },
        {
          "output_type": "stream",
          "text": [
            "Epoch: 27  Loss=0.5559965372085571  Batch_id=1562  Accuracy=85.02: 100%|██████████| 1563/1563 [00:30<00:00, 51.00it/s]\n",
            "  0%|          | 0/1563 [00:00<?, ?it/s]"
          ],
          "name": "stderr"
        },
        {
          "output_type": "stream",
          "text": [
            "Accuracy of the network on the 10000 test images: 81 % \n",
            "\n"
          ],
          "name": "stdout"
        },
        {
          "output_type": "stream",
          "text": [
            "Epoch: 28  Loss=0.6301345229148865  Batch_id=1562  Accuracy=85.24: 100%|██████████| 1563/1563 [00:30<00:00, 51.38it/s]\n",
            "  0%|          | 0/1563 [00:00<?, ?it/s]"
          ],
          "name": "stderr"
        },
        {
          "output_type": "stream",
          "text": [
            "Accuracy of the network on the 10000 test images: 81 % \n",
            "\n"
          ],
          "name": "stdout"
        },
        {
          "output_type": "stream",
          "text": [
            "Epoch: 29  Loss=0.5097842216491699  Batch_id=1562  Accuracy=85.41: 100%|██████████| 1563/1563 [00:30<00:00, 51.30it/s]\n",
            "  0%|          | 0/1563 [00:00<?, ?it/s]"
          ],
          "name": "stderr"
        },
        {
          "output_type": "stream",
          "text": [
            "Accuracy of the network on the 10000 test images: 80 % \n",
            "\n"
          ],
          "name": "stdout"
        },
        {
          "output_type": "stream",
          "text": [
            "Epoch: 30  Loss=0.7362539768218994  Batch_id=1562  Accuracy=85.52: 100%|██████████| 1563/1563 [00:30<00:00, 50.80it/s]\n",
            "  0%|          | 0/1563 [00:00<?, ?it/s]"
          ],
          "name": "stderr"
        },
        {
          "output_type": "stream",
          "text": [
            "Accuracy of the network on the 10000 test images: 80 % \n",
            "\n"
          ],
          "name": "stdout"
        },
        {
          "output_type": "stream",
          "text": [
            "Epoch: 31  Loss=0.6879183053970337  Batch_id=1562  Accuracy=85.71: 100%|██████████| 1563/1563 [00:30<00:00, 51.06it/s]\n",
            "  0%|          | 0/1563 [00:00<?, ?it/s]"
          ],
          "name": "stderr"
        },
        {
          "output_type": "stream",
          "text": [
            "Accuracy of the network on the 10000 test images: 81 % \n",
            "\n"
          ],
          "name": "stdout"
        },
        {
          "output_type": "stream",
          "text": [
            "Epoch: 32  Loss=0.5268766283988953  Batch_id=1562  Accuracy=86.03: 100%|██████████| 1563/1563 [00:30<00:00, 51.48it/s]\n",
            "  0%|          | 0/1563 [00:00<?, ?it/s]"
          ],
          "name": "stderr"
        },
        {
          "output_type": "stream",
          "text": [
            "Accuracy of the network on the 10000 test images: 81 % \n",
            "\n"
          ],
          "name": "stdout"
        },
        {
          "output_type": "stream",
          "text": [
            "Epoch: 33  Loss=0.27160707116127014  Batch_id=1562  Accuracy=86.17: 100%|██████████| 1563/1563 [00:30<00:00, 51.40it/s]\n",
            "  0%|          | 0/1563 [00:00<?, ?it/s]"
          ],
          "name": "stderr"
        },
        {
          "output_type": "stream",
          "text": [
            "Accuracy of the network on the 10000 test images: 81 % \n",
            "\n"
          ],
          "name": "stdout"
        },
        {
          "output_type": "stream",
          "text": [
            "Epoch: 34  Loss=0.2161705642938614  Batch_id=1562  Accuracy=86.44: 100%|██████████| 1563/1563 [00:29<00:00, 52.13it/s]\n",
            "  0%|          | 0/1563 [00:00<?, ?it/s]"
          ],
          "name": "stderr"
        },
        {
          "output_type": "stream",
          "text": [
            "Accuracy of the network on the 10000 test images: 81 % \n",
            "\n"
          ],
          "name": "stdout"
        },
        {
          "output_type": "stream",
          "text": [
            "Epoch: 35  Loss=0.4562213718891144  Batch_id=1562  Accuracy=86.66: 100%|██████████| 1563/1563 [00:30<00:00, 58.73it/s]\n"
          ],
          "name": "stderr"
        },
        {
          "output_type": "stream",
          "text": [
            "Accuracy of the network on the 10000 test images: 81 % \n",
            "\n"
          ],
          "name": "stdout"
        }
      ]
    },
    {
      "cell_type": "code",
      "metadata": {
        "id": "FE-vK6hAs3xN",
        "colab_type": "code",
        "colab": {}
      },
      "source": [
        ""
      ],
      "execution_count": 0,
      "outputs": []
    }
  ]
}