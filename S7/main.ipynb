{
  "nbformat": 4,
  "nbformat_minor": 0,
  "metadata": {
    "kernelspec": {
      "name": "python3",
      "display_name": "Python 3"
    },
    "language_info": {
      "codemirror_mode": {
        "name": "ipython",
        "version": 3
      },
      "file_extension": ".py",
      "mimetype": "text/x-python",
      "name": "python",
      "nbconvert_exporter": "python",
      "pygments_lexer": "ipython3",
      "version": "3.6.6"
    },
    "colab": {
      "name": "Modularize S7.ipynb",
      "provenance": [],
      "collapsed_sections": []
    },
    "accelerator": "GPU"
  },
  "cells": [
    {
      "cell_type": "code",
      "metadata": {
        "id": "iE2pRQzcpFHS",
        "colab_type": "code",
        "colab": {}
      },
      "source": [
        "from  vision import cifar10, imagetransforms, dataloader, train_test_model"
      ],
      "execution_count": 0,
      "outputs": []
    },
    {
      "cell_type": "code",
      "metadata": {
        "id": "KJGUCt-ApH8T",
        "colab_type": "code",
        "colab": {}
      },
      "source": [
        "Net = cifar10.Cifar10Model()"
      ],
      "execution_count": 0,
      "outputs": []
    },
    {
      "cell_type": "code",
      "metadata": {
        "id": "8lqjcCFnpWJW",
        "colab_type": "code",
        "outputId": "e6de21ec-f32f-429d-8aa9-f574331a98c8",
        "colab": {
          "base_uri": "https://localhost:8080/",
          "height": 941
        }
      },
      "source": [
        "Net.summary()"
      ],
      "execution_count": 7,
      "outputs": [
        {
          "output_type": "stream",
          "text": [
            "cuda\n",
            "----------------------------------------------------------------\n",
            "        Layer (type)               Output Shape         Param #\n",
            "================================================================\n",
            "            Conv2d-1           [-1, 32, 32, 32]             864\n",
            "       BatchNorm2d-2           [-1, 32, 32, 32]              64\n",
            "           Dropout-3           [-1, 32, 32, 32]               0\n",
            "              ReLU-4           [-1, 32, 32, 32]               0\n",
            "            Conv2d-5           [-1, 64, 32, 32]          18,432\n",
            "       BatchNorm2d-6           [-1, 64, 32, 32]             128\n",
            "           Dropout-7           [-1, 64, 32, 32]               0\n",
            "              ReLU-8           [-1, 64, 32, 32]               0\n",
            "         MaxPool2d-9           [-1, 64, 16, 16]               0\n",
            "           Conv2d-10           [-1, 64, 16, 16]             576\n",
            "      BatchNorm2d-11           [-1, 64, 16, 16]             128\n",
            "          Dropout-12           [-1, 64, 16, 16]               0\n",
            "             ReLU-13           [-1, 64, 16, 16]               0\n",
            "           Conv2d-14           [-1, 32, 16, 16]           2,080\n",
            "      BatchNorm2d-15           [-1, 32, 16, 16]              64\n",
            "          Dropout-16           [-1, 32, 16, 16]               0\n",
            "             ReLU-17           [-1, 32, 16, 16]               0\n",
            "           Conv2d-18           [-1, 64, 16, 16]          18,432\n",
            "      BatchNorm2d-19           [-1, 64, 16, 16]             128\n",
            "          Dropout-20           [-1, 64, 16, 16]               0\n",
            "             ReLU-21           [-1, 64, 16, 16]               0\n",
            "        MaxPool2d-22             [-1, 64, 8, 8]               0\n",
            "           Conv2d-23            [-1, 128, 8, 8]          73,728\n",
            "      BatchNorm2d-24            [-1, 128, 8, 8]             256\n",
            "          Dropout-25            [-1, 128, 8, 8]               0\n",
            "             ReLU-26            [-1, 128, 8, 8]               0\n",
            "           Conv2d-27            [-1, 128, 8, 8]         147,456\n",
            "      BatchNorm2d-28            [-1, 128, 8, 8]             256\n",
            "          Dropout-29            [-1, 128, 8, 8]               0\n",
            "             ReLU-30            [-1, 128, 8, 8]               0\n",
            "        MaxPool2d-31            [-1, 128, 4, 4]               0\n",
            "           Conv2d-32            [-1, 128, 4, 4]         147,456\n",
            "      BatchNorm2d-33            [-1, 128, 4, 4]             256\n",
            "          Dropout-34            [-1, 128, 4, 4]               0\n",
            "             ReLU-35            [-1, 128, 4, 4]               0\n",
            "           Conv2d-36            [-1, 256, 4, 4]         294,912\n",
            "      BatchNorm2d-37            [-1, 256, 4, 4]             512\n",
            "          Dropout-38            [-1, 256, 4, 4]               0\n",
            "             ReLU-39            [-1, 256, 4, 4]               0\n",
            "        AvgPool2d-40            [-1, 256, 1, 1]               0\n",
            "           Conv2d-41             [-1, 10, 1, 1]           2,560\n",
            "================================================================\n",
            "Total params: 708,288\n",
            "Trainable params: 708,288\n",
            "Non-trainable params: 0\n",
            "----------------------------------------------------------------\n",
            "Input size (MB): 0.01\n",
            "Forward/backward pass size (MB): 5.11\n",
            "Params size (MB): 2.70\n",
            "Estimated Total Size (MB): 7.83\n",
            "----------------------------------------------------------------\n"
          ],
          "name": "stdout"
        }
      ]
    },
    {
      "cell_type": "code",
      "metadata": {
        "id": "vHkEnqSBp5pr",
        "colab_type": "code",
        "outputId": "4d421b04-fc87-4b9c-dd46-ab7ae4a00f7b",
        "colab": {
          "base_uri": "https://localhost:8080/",
          "height": 50
        }
      },
      "source": [
        "train = True\n",
        "test = True\n",
        "train_transforms = imagetransforms.trainTransform()\n",
        "test_transforms = imagetransforms.testTransform()\n",
        "\n",
        "train_dataloader = dataloader.dataloader_train(train, train_transforms)\n",
        "test_dataloader = dataloader.dataloader_test(test, test_transforms)"
      ],
      "execution_count": 8,
      "outputs": [
        {
          "output_type": "stream",
          "text": [
            "Files already downloaded and verified\n",
            "Files already downloaded and verified\n"
          ],
          "name": "stdout"
        }
      ]
    },
    {
      "cell_type": "code",
      "metadata": {
        "id": "vzo7uI-or2FJ",
        "colab_type": "code",
        "outputId": "2bd4e5d7-e69f-4fa0-826c-70b30aa31561",
        "colab": {
          "base_uri": "https://localhost:8080/",
          "height": 1000
        }
      },
      "source": [
        "epochs = 35\n",
        "train_test_model.run_model(Net, train_dataloader, test_dataloader, epochs)"
      ],
      "execution_count": 10,
      "outputs": [
        {
          "output_type": "stream",
          "text": [
            "Epoch: 1  Loss=1.6695574522018433  Batch_id=1562  Accuracy=45.82: 100%|██████████| 1563/1563 [00:27<00:00, 55.93it/s]\n",
            "  0%|          | 0/1563 [00:00<?, ?it/s]"
          ],
          "name": "stderr"
        },
        {
          "output_type": "stream",
          "text": [
            "Accuracy of the network on the 10000 test images: 56 % \n",
            "\n"
          ],
          "name": "stdout"
        },
        {
          "output_type": "stream",
          "text": [
            "Epoch: 2  Loss=1.7431578636169434  Batch_id=1562  Accuracy=61.32: 100%|██████████| 1563/1563 [00:28<00:00, 55.79it/s]\n",
            "  0%|          | 0/1563 [00:00<?, ?it/s]"
          ],
          "name": "stderr"
        },
        {
          "output_type": "stream",
          "text": [
            "Accuracy of the network on the 10000 test images: 64 % \n",
            "\n"
          ],
          "name": "stdout"
        },
        {
          "output_type": "stream",
          "text": [
            "Epoch: 3  Loss=1.1878682374954224  Batch_id=1562  Accuracy=67.36: 100%|██████████| 1563/1563 [00:27<00:00, 59.07it/s]\n",
            "  0%|          | 0/1563 [00:00<?, ?it/s]"
          ],
          "name": "stderr"
        },
        {
          "output_type": "stream",
          "text": [
            "Accuracy of the network on the 10000 test images: 68 % \n",
            "\n"
          ],
          "name": "stdout"
        },
        {
          "output_type": "stream",
          "text": [
            "Epoch: 4  Loss=1.117378830909729  Batch_id=1562  Accuracy=71.58: 100%|██████████| 1563/1563 [00:27<00:00, 56.47it/s]\n",
            "  0%|          | 0/1563 [00:00<?, ?it/s]"
          ],
          "name": "stderr"
        },
        {
          "output_type": "stream",
          "text": [
            "Accuracy of the network on the 10000 test images: 71 % \n",
            "\n"
          ],
          "name": "stdout"
        },
        {
          "output_type": "stream",
          "text": [
            "Epoch: 5  Loss=1.0188721418380737  Batch_id=1562  Accuracy=74.34: 100%|██████████| 1563/1563 [00:27<00:00, 56.08it/s]\n",
            "  0%|          | 0/1563 [00:00<?, ?it/s]"
          ],
          "name": "stderr"
        },
        {
          "output_type": "stream",
          "text": [
            "Accuracy of the network on the 10000 test images: 73 % \n",
            "\n"
          ],
          "name": "stdout"
        },
        {
          "output_type": "stream",
          "text": [
            "Epoch: 6  Loss=0.8502210974693298  Batch_id=1562  Accuracy=76.73: 100%|██████████| 1563/1563 [00:28<00:00, 55.65it/s]\n",
            "  0%|          | 0/1563 [00:00<?, ?it/s]"
          ],
          "name": "stderr"
        },
        {
          "output_type": "stream",
          "text": [
            "Accuracy of the network on the 10000 test images: 74 % \n",
            "\n"
          ],
          "name": "stdout"
        },
        {
          "output_type": "stream",
          "text": [
            "Epoch: 7  Loss=0.8759533166885376  Batch_id=1562  Accuracy=78.53: 100%|██████████| 1563/1563 [00:27<00:00, 55.91it/s]\n",
            "  0%|          | 0/1563 [00:00<?, ?it/s]"
          ],
          "name": "stderr"
        },
        {
          "output_type": "stream",
          "text": [
            "Accuracy of the network on the 10000 test images: 75 % \n",
            "\n"
          ],
          "name": "stdout"
        },
        {
          "output_type": "stream",
          "text": [
            "Epoch: 8  Loss=0.6928523778915405  Batch_id=1562  Accuracy=80.02: 100%|██████████| 1563/1563 [00:28<00:00, 55.41it/s]\n",
            "  0%|          | 0/1563 [00:00<?, ?it/s]"
          ],
          "name": "stderr"
        },
        {
          "output_type": "stream",
          "text": [
            "Accuracy of the network on the 10000 test images: 76 % \n",
            "\n"
          ],
          "name": "stdout"
        },
        {
          "output_type": "stream",
          "text": [
            "Epoch: 9  Loss=0.8875042200088501  Batch_id=1562  Accuracy=81.16: 100%|██████████| 1563/1563 [00:27<00:00, 55.97it/s]\n",
            "  0%|          | 0/1563 [00:00<?, ?it/s]"
          ],
          "name": "stderr"
        },
        {
          "output_type": "stream",
          "text": [
            "Accuracy of the network on the 10000 test images: 77 % \n",
            "\n"
          ],
          "name": "stdout"
        },
        {
          "output_type": "stream",
          "text": [
            "Epoch: 10  Loss=0.5256911516189575  Batch_id=1562  Accuracy=82.35: 100%|██████████| 1563/1563 [00:28<00:00, 55.51it/s]\n",
            "  0%|          | 0/1563 [00:00<?, ?it/s]"
          ],
          "name": "stderr"
        },
        {
          "output_type": "stream",
          "text": [
            "Accuracy of the network on the 10000 test images: 76 % \n",
            "\n"
          ],
          "name": "stdout"
        },
        {
          "output_type": "stream",
          "text": [
            "Epoch: 11  Loss=0.7636470198631287  Batch_id=1562  Accuracy=83.25: 100%|██████████| 1563/1563 [00:28<00:00, 55.49it/s]\n",
            "  0%|          | 0/1563 [00:00<?, ?it/s]"
          ],
          "name": "stderr"
        },
        {
          "output_type": "stream",
          "text": [
            "Accuracy of the network on the 10000 test images: 77 % \n",
            "\n"
          ],
          "name": "stdout"
        },
        {
          "output_type": "stream",
          "text": [
            "Epoch: 12  Loss=0.37384167313575745  Batch_id=1562  Accuracy=84.33: 100%|██████████| 1563/1563 [00:27<00:00, 57.19it/s]\n",
            "  0%|          | 0/1563 [00:00<?, ?it/s]"
          ],
          "name": "stderr"
        },
        {
          "output_type": "stream",
          "text": [
            "Accuracy of the network on the 10000 test images: 78 % \n",
            "\n"
          ],
          "name": "stdout"
        },
        {
          "output_type": "stream",
          "text": [
            "Epoch: 13  Loss=0.40288636088371277  Batch_id=1562  Accuracy=84.92: 100%|██████████| 1563/1563 [00:28<00:00, 55.40it/s]\n",
            "  0%|          | 0/1563 [00:00<?, ?it/s]"
          ],
          "name": "stderr"
        },
        {
          "output_type": "stream",
          "text": [
            "Accuracy of the network on the 10000 test images: 78 % \n",
            "\n"
          ],
          "name": "stdout"
        },
        {
          "output_type": "stream",
          "text": [
            "Epoch: 14  Loss=0.26637646555900574  Batch_id=1562  Accuracy=85.87: 100%|██████████| 1563/1563 [00:28<00:00, 54.99it/s]\n",
            "  0%|          | 0/1563 [00:00<?, ?it/s]"
          ],
          "name": "stderr"
        },
        {
          "output_type": "stream",
          "text": [
            "Accuracy of the network on the 10000 test images: 77 % \n",
            "\n"
          ],
          "name": "stdout"
        },
        {
          "output_type": "stream",
          "text": [
            "Epoch: 15  Loss=0.22512272000312805  Batch_id=1562  Accuracy=86.79: 100%|██████████| 1563/1563 [00:27<00:00, 56.19it/s]\n",
            "  0%|          | 0/1563 [00:00<?, ?it/s]"
          ],
          "name": "stderr"
        },
        {
          "output_type": "stream",
          "text": [
            "Accuracy of the network on the 10000 test images: 79 % \n",
            "\n"
          ],
          "name": "stdout"
        },
        {
          "output_type": "stream",
          "text": [
            "Epoch: 16  Loss=0.43036383390426636  Batch_id=1562  Accuracy=87.36: 100%|██████████| 1563/1563 [00:27<00:00, 56.05it/s]\n",
            "  0%|          | 0/1563 [00:00<?, ?it/s]"
          ],
          "name": "stderr"
        },
        {
          "output_type": "stream",
          "text": [
            "Accuracy of the network on the 10000 test images: 78 % \n",
            "\n"
          ],
          "name": "stdout"
        },
        {
          "output_type": "stream",
          "text": [
            "Epoch: 17  Loss=0.27989310026168823  Batch_id=1562  Accuracy=87.80: 100%|██████████| 1563/1563 [00:27<00:00, 56.45it/s]\n",
            "  0%|          | 0/1563 [00:00<?, ?it/s]"
          ],
          "name": "stderr"
        },
        {
          "output_type": "stream",
          "text": [
            "Accuracy of the network on the 10000 test images: 78 % \n",
            "\n"
          ],
          "name": "stdout"
        },
        {
          "output_type": "stream",
          "text": [
            "Epoch: 18  Loss=0.21897579729557037  Batch_id=1562  Accuracy=88.66: 100%|██████████| 1563/1563 [00:27<00:00, 56.86it/s]\n",
            "  0%|          | 0/1563 [00:00<?, ?it/s]"
          ],
          "name": "stderr"
        },
        {
          "output_type": "stream",
          "text": [
            "Accuracy of the network on the 10000 test images: 79 % \n",
            "\n"
          ],
          "name": "stdout"
        },
        {
          "output_type": "stream",
          "text": [
            "Epoch: 19  Loss=0.3026551306247711  Batch_id=1562  Accuracy=88.93: 100%|██████████| 1563/1563 [00:28<00:00, 53.77it/s]\n",
            "  0%|          | 0/1563 [00:00<?, ?it/s]"
          ],
          "name": "stderr"
        },
        {
          "output_type": "stream",
          "text": [
            "Accuracy of the network on the 10000 test images: 79 % \n",
            "\n"
          ],
          "name": "stdout"
        },
        {
          "output_type": "stream",
          "text": [
            "Epoch: 20  Loss=0.28939226269721985  Batch_id=1562  Accuracy=89.40: 100%|██████████| 1563/1563 [00:27<00:00, 56.04it/s]\n",
            "  0%|          | 0/1563 [00:00<?, ?it/s]"
          ],
          "name": "stderr"
        },
        {
          "output_type": "stream",
          "text": [
            "Accuracy of the network on the 10000 test images: 79 % \n",
            "\n"
          ],
          "name": "stdout"
        },
        {
          "output_type": "stream",
          "text": [
            "Epoch: 21  Loss=0.1460188925266266  Batch_id=1562  Accuracy=89.92: 100%|██████████| 1563/1563 [00:28<00:00, 55.32it/s]\n",
            "  0%|          | 0/1563 [00:00<?, ?it/s]"
          ],
          "name": "stderr"
        },
        {
          "output_type": "stream",
          "text": [
            "Accuracy of the network on the 10000 test images: 79 % \n",
            "\n"
          ],
          "name": "stdout"
        },
        {
          "output_type": "stream",
          "text": [
            "Epoch: 22  Loss=0.17683111131191254  Batch_id=1562  Accuracy=90.36: 100%|██████████| 1563/1563 [00:27<00:00, 56.02it/s]\n",
            "  0%|          | 0/1563 [00:00<?, ?it/s]"
          ],
          "name": "stderr"
        },
        {
          "output_type": "stream",
          "text": [
            "Accuracy of the network on the 10000 test images: 79 % \n",
            "\n"
          ],
          "name": "stdout"
        },
        {
          "output_type": "stream",
          "text": [
            "Epoch: 23  Loss=0.2964966297149658  Batch_id=1562  Accuracy=90.98: 100%|██████████| 1563/1563 [00:27<00:00, 56.20it/s]\n",
            "  0%|          | 0/1563 [00:00<?, ?it/s]"
          ],
          "name": "stderr"
        },
        {
          "output_type": "stream",
          "text": [
            "Accuracy of the network on the 10000 test images: 79 % \n",
            "\n"
          ],
          "name": "stdout"
        },
        {
          "output_type": "stream",
          "text": [
            "Epoch: 24  Loss=0.27956992387771606  Batch_id=1562  Accuracy=91.37: 100%|██████████| 1563/1563 [00:27<00:00, 56.27it/s]\n",
            "  0%|          | 0/1563 [00:00<?, ?it/s]"
          ],
          "name": "stderr"
        },
        {
          "output_type": "stream",
          "text": [
            "Accuracy of the network on the 10000 test images: 79 % \n",
            "\n"
          ],
          "name": "stdout"
        },
        {
          "output_type": "stream",
          "text": [
            "Epoch: 25  Loss=0.13440145552158356  Batch_id=1562  Accuracy=91.52: 100%|██████████| 1563/1563 [00:27<00:00, 56.36it/s]\n",
            "  0%|          | 0/1563 [00:00<?, ?it/s]"
          ],
          "name": "stderr"
        },
        {
          "output_type": "stream",
          "text": [
            "Accuracy of the network on the 10000 test images: 79 % \n",
            "\n"
          ],
          "name": "stdout"
        },
        {
          "output_type": "stream",
          "text": [
            "Epoch: 26  Loss=0.1786486804485321  Batch_id=1562  Accuracy=92.00: 100%|██████████| 1563/1563 [00:27<00:00, 56.86it/s]\n",
            "  0%|          | 0/1563 [00:00<?, ?it/s]"
          ],
          "name": "stderr"
        },
        {
          "output_type": "stream",
          "text": [
            "Accuracy of the network on the 10000 test images: 79 % \n",
            "\n"
          ],
          "name": "stdout"
        },
        {
          "output_type": "stream",
          "text": [
            "Epoch: 27  Loss=0.1856791377067566  Batch_id=1562  Accuracy=92.55: 100%|██████████| 1563/1563 [00:28<00:00, 55.63it/s]\n",
            "  0%|          | 0/1563 [00:00<?, ?it/s]"
          ],
          "name": "stderr"
        },
        {
          "output_type": "stream",
          "text": [
            "Accuracy of the network on the 10000 test images: 79 % \n",
            "\n"
          ],
          "name": "stdout"
        },
        {
          "output_type": "stream",
          "text": [
            "Epoch: 28  Loss=0.13988223671913147  Batch_id=1562  Accuracy=92.58: 100%|██████████| 1563/1563 [00:27<00:00, 56.71it/s]\n",
            "  0%|          | 0/1563 [00:00<?, ?it/s]"
          ],
          "name": "stderr"
        },
        {
          "output_type": "stream",
          "text": [
            "Accuracy of the network on the 10000 test images: 80 % \n",
            "\n"
          ],
          "name": "stdout"
        },
        {
          "output_type": "stream",
          "text": [
            "Epoch: 29  Loss=0.27444887161254883  Batch_id=1562  Accuracy=92.96: 100%|██████████| 1563/1563 [00:28<00:00, 55.77it/s]\n",
            "  0%|          | 0/1563 [00:00<?, ?it/s]"
          ],
          "name": "stderr"
        },
        {
          "output_type": "stream",
          "text": [
            "Accuracy of the network on the 10000 test images: 80 % \n",
            "\n"
          ],
          "name": "stdout"
        },
        {
          "output_type": "stream",
          "text": [
            "Epoch: 30  Loss=0.19279345870018005  Batch_id=1562  Accuracy=93.41: 100%|██████████| 1563/1563 [00:27<00:00, 56.50it/s]\n",
            "  0%|          | 0/1563 [00:00<?, ?it/s]"
          ],
          "name": "stderr"
        },
        {
          "output_type": "stream",
          "text": [
            "Accuracy of the network on the 10000 test images: 79 % \n",
            "\n"
          ],
          "name": "stdout"
        },
        {
          "output_type": "stream",
          "text": [
            "Epoch: 31  Loss=0.0450684130191803  Batch_id=1562  Accuracy=93.54: 100%|██████████| 1563/1563 [00:27<00:00, 55.90it/s]\n",
            "  0%|          | 0/1563 [00:00<?, ?it/s]"
          ],
          "name": "stderr"
        },
        {
          "output_type": "stream",
          "text": [
            "Accuracy of the network on the 10000 test images: 80 % \n",
            "\n"
          ],
          "name": "stdout"
        },
        {
          "output_type": "stream",
          "text": [
            "Epoch: 32  Loss=0.24526232481002808  Batch_id=1562  Accuracy=93.76: 100%|██████████| 1563/1563 [00:27<00:00, 57.14it/s]\n",
            "  0%|          | 0/1563 [00:00<?, ?it/s]"
          ],
          "name": "stderr"
        },
        {
          "output_type": "stream",
          "text": [
            "Accuracy of the network on the 10000 test images: 80 % \n",
            "\n"
          ],
          "name": "stdout"
        },
        {
          "output_type": "stream",
          "text": [
            "Epoch: 33  Loss=0.17622727155685425  Batch_id=1562  Accuracy=93.91: 100%|██████████| 1563/1563 [00:27<00:00, 55.86it/s]\n",
            "  0%|          | 0/1563 [00:00<?, ?it/s]"
          ],
          "name": "stderr"
        },
        {
          "output_type": "stream",
          "text": [
            "Accuracy of the network on the 10000 test images: 80 % \n",
            "\n"
          ],
          "name": "stdout"
        },
        {
          "output_type": "stream",
          "text": [
            "Epoch: 34  Loss=0.025403738021850586  Batch_id=1562  Accuracy=94.58: 100%|██████████| 1563/1563 [00:27<00:00, 56.82it/s]\n",
            "  0%|          | 0/1563 [00:00<?, ?it/s]"
          ],
          "name": "stderr"
        },
        {
          "output_type": "stream",
          "text": [
            "Accuracy of the network on the 10000 test images: 80 % \n",
            "\n"
          ],
          "name": "stdout"
        },
        {
          "output_type": "stream",
          "text": [
            "Epoch: 35  Loss=0.24393287301063538  Batch_id=1562  Accuracy=94.56: 100%|██████████| 1563/1563 [00:27<00:00, 57.60it/s]\n"
          ],
          "name": "stderr"
        },
        {
          "output_type": "stream",
          "text": [
            "Accuracy of the network on the 10000 test images: 80 % \n",
            "\n"
          ],
          "name": "stdout"
        }
      ]
    },
    {
      "cell_type": "code",
      "metadata": {
        "id": "FE-vK6hAs3xN",
        "colab_type": "code",
        "colab": {}
      },
      "source": [
        ""
      ],
      "execution_count": 0,
      "outputs": []
    }
  ]
}