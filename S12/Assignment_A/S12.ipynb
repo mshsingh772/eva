{
   "cells":[
      {
         "metadata":{
            "id":"qcDEFrakZXoZ",
            "outputId":"12e6668a-533d-4e43-bbb3-effd2ee7c4a2",
            "executionInfo":{
               "status":"ok",
               "timestamp":1587809457627,
               "user_tz":-330,
               "elapsed":14376,
               "user":{
                  "displayName":"Hemendra Hemu",
                  "photoUrl":"",
                  "userId":"15089905504791515225"
               }
            },
            "trusted":true
         },
         "cell_type":"code",
         "source":"!pip install -U git+https://github.com/albu/albumentations",
         "execution_count":15,
         "outputs":[
            {
               "output_type":"stream",
               "text":"Collecting git+https://github.com/albu/albumentations\n  Cloning https://github.com/albu/albumentations to /tmp/pip-req-build-ov82wiid\n  Running command git clone -q https://github.com/albu/albumentations /tmp/pip-req-build-ov82wiid\nRequirement already satisfied, skipping upgrade: numpy>=1.11.1 in /opt/conda/lib/python3.6/site-packages (from albumentations==0.4.5) (1.18.2)\nRequirement already satisfied, skipping upgrade: scipy in /opt/conda/lib/python3.6/site-packages (from albumentations==0.4.5) (1.4.1)\nRequirement already satisfied, skipping upgrade: imgaug<0.2.7,>=0.2.5 in /opt/conda/lib/python3.6/site-packages (from albumentations==0.4.5) (0.2.6)\nRequirement already satisfied, skipping upgrade: PyYAML in /opt/conda/lib/python3.6/site-packages (from albumentations==0.4.5) (5.3.1)\nRequirement already satisfied, skipping upgrade: opencv-python>=4.1.1 in /opt/conda/lib/python3.6/site-packages (from albumentations==0.4.5) (4.2.0.32)\nRequirement already satisfied, skipping upgrade: six in /opt/conda/lib/python3.6/site-packages (from imgaug<0.2.7,>=0.2.5->albumentations==0.4.5) (1.14.0)\nRequirement already satisfied, skipping upgrade: scikit-image>=0.11.0 in /opt/conda/lib/python3.6/site-packages (from imgaug<0.2.7,>=0.2.5->albumentations==0.4.5) (0.16.2)\nRequirement already satisfied, skipping upgrade: matplotlib!=3.0.0,>=2.0.0 in /opt/conda/lib/python3.6/site-packages (from scikit-image>=0.11.0->imgaug<0.2.7,>=0.2.5->albumentations==0.4.5) (3.2.1)\nRequirement already satisfied, skipping upgrade: PyWavelets>=0.4.0 in /opt/conda/lib/python3.6/site-packages (from scikit-image>=0.11.0->imgaug<0.2.7,>=0.2.5->albumentations==0.4.5) (1.1.1)\nRequirement already satisfied, skipping upgrade: imageio>=2.3.0 in /opt/conda/lib/python3.6/site-packages (from scikit-image>=0.11.0->imgaug<0.2.7,>=0.2.5->albumentations==0.4.5) (2.8.0)\nRequirement already satisfied, skipping upgrade: pillow>=4.3.0 in /opt/conda/lib/python3.6/site-packages (from scikit-image>=0.11.0->imgaug<0.2.7,>=0.2.5->albumentations==0.4.5) (5.4.1)\nRequirement already satisfied, skipping upgrade: networkx>=2.0 in /opt/conda/lib/python3.6/site-packages (from scikit-image>=0.11.0->imgaug<0.2.7,>=0.2.5->albumentations==0.4.5) (2.4)\nRequirement already satisfied, skipping upgrade: kiwisolver>=1.0.1 in /opt/conda/lib/python3.6/site-packages (from matplotlib!=3.0.0,>=2.0.0->scikit-image>=0.11.0->imgaug<0.2.7,>=0.2.5->albumentations==0.4.5) (1.1.0)\nRequirement already satisfied, skipping upgrade: cycler>=0.10 in /opt/conda/lib/python3.6/site-packages (from matplotlib!=3.0.0,>=2.0.0->scikit-image>=0.11.0->imgaug<0.2.7,>=0.2.5->albumentations==0.4.5) (0.10.0)\nRequirement already satisfied, skipping upgrade: python-dateutil>=2.1 in /opt/conda/lib/python3.6/site-packages (from matplotlib!=3.0.0,>=2.0.0->scikit-image>=0.11.0->imgaug<0.2.7,>=0.2.5->albumentations==0.4.5) (2.8.1)\nRequirement already satisfied, skipping upgrade: pyparsing!=2.0.4,!=2.1.2,!=2.1.6,>=2.0.1 in /opt/conda/lib/python3.6/site-packages (from matplotlib!=3.0.0,>=2.0.0->scikit-image>=0.11.0->imgaug<0.2.7,>=0.2.5->albumentations==0.4.5) (2.4.6)\nRequirement already satisfied, skipping upgrade: decorator>=4.3.0 in /opt/conda/lib/python3.6/site-packages (from networkx>=2.0->scikit-image>=0.11.0->imgaug<0.2.7,>=0.2.5->albumentations==0.4.5) (4.4.2)\nRequirement already satisfied, skipping upgrade: setuptools in /opt/conda/lib/python3.6/site-packages (from kiwisolver>=1.0.1->matplotlib!=3.0.0,>=2.0.0->scikit-image>=0.11.0->imgaug<0.2.7,>=0.2.5->albumentations==0.4.5) (46.1.3.post20200330)\nBuilding wheels for collected packages: albumentations\n  Building wheel for albumentations (setup.py) ... \u001b[?25ldone\n\u001b[?25h  Created wheel for albumentations: filename=albumentations-0.4.5-py3-none-any.whl size=65101 sha256=7a497e265cb9a7c728601eef62503dbfc5b716f7eeeb80eb5ea08e905f344dbe\n  Stored in directory: /tmp/pip-ephem-wheel-cache-melnmrqx/wheels/71/47/a1/9fb38b59d1a7a073dee774966fd5e64fe345dd1f55a18fb7c7\nSuccessfully built albumentations\nInstalling collected packages: albumentations\n  Attempting uninstall: albumentations\n    Found existing installation: albumentations 0.4.5\n    Uninstalling albumentations-0.4.5:\n      Successfully uninstalled albumentations-0.4.5\nSuccessfully installed albumentations-0.4.5\n",
               "name":"stdout"
            }
         ]
      },
      {
         "metadata":{
            "trusted":true
         },
         "cell_type":"code",
         "source":"!pip install torchsummary",
         "execution_count":16,
         "outputs":[
            {
               "output_type":"stream",
               "text":"Requirement already satisfied: torchsummary in /opt/conda/lib/python3.6/site-packages (1.5.1)\r\n",
               "name":"stdout"
            }
         ]
      },
      {
         "metadata":{
            "trusted":true
         },
         "cell_type":"code",
         "source":"cp -avr /kaggle/input/vision /kaggle/working/",
         "execution_count":17,
         "outputs":[
            {
               "output_type":"stream",
               "text":"'/kaggle/input/vision/models/__init__.py' -> '/kaggle/working/vision/models/__init__.py'\r\n'/kaggle/input/vision/models/cifar10.py' -> '/kaggle/working/vision/models/cifar10.py'\r\n'/kaggle/input/vision/models/mnistmodel.py' -> '/kaggle/working/vision/models/mnistmodel.py'\r\n'/kaggle/input/vision/models/resnet.py' -> '/kaggle/working/vision/models/resnet.py'\r\n'/kaggle/input/vision/models/customeResNet.py' -> '/kaggle/working/vision/models/customeResNet.py'\r\n'/kaggle/input/vision/_init__.py' -> '/kaggle/working/vision/_init__.py'\r\n'/kaggle/input/vision/gradcam.py' -> '/kaggle/working/vision/gradcam.py'\r\n'/kaggle/input/vision/train_test_model.py' -> '/kaggle/working/vision/train_test_model.py'\r\n'/kaggle/input/vision/dataloaders.py' -> '/kaggle/working/vision/dataloaders.py'\r\n'/kaggle/input/vision/Tiny_Imagenet_200.py' -> '/kaggle/working/vision/Tiny_Imagenet_200.py'\r\n'/kaggle/input/vision/lr_range_test.py' -> '/kaggle/working/vision/lr_range_test.py'\r\n'/kaggle/input/vision/plot_grad.py' -> '/kaggle/working/vision/plot_grad.py'\r\n'/kaggle/input/vision/utils.py' -> '/kaggle/working/vision/utils.py'\r\n'/kaggle/input/vision/train_test_.py' -> '/kaggle/working/vision/train_test_.py'\r\n'/kaggle/input/vision/lr_finder.py' -> '/kaggle/working/vision/lr_finder.py'\r\n'/kaggle/input/vision/imagetransforms.py' -> '/kaggle/working/vision/imagetransforms.py'\r\n",
               "name":"stdout"
            }
         ]
      },
      {
         "metadata":{
            "trusted":true
         },
         "cell_type":"code",
         "source":"cd /kaggle/working",
         "execution_count":18,
         "outputs":[
            {
               "output_type":"stream",
               "text":"/kaggle/working\n",
               "name":"stdout"
            }
         ]
      },
      {
         "metadata":{
            "id":"qOpilFhLuQZ7"
         },
         "cell_type":"markdown",
         "source":"## Necessary Imports"
      },
      {
         "metadata":{
            "outputId":"4589a163-64f0-46c0-bc42-859d1492021e",
            "executionInfo":{
               "status":"ok",
               "timestamp":1587809458028,
               "user_tz":-330,
               "elapsed":14712,
               "user":{
                  "displayName":"Hemendra Hemu",
                  "photoUrl":"",
                  "userId":"15089905504791515225"
               }
            },
            "id":"rV36OhUPa_y6",
            "trusted":true
         },
         "cell_type":"code",
         "source":"import numpy as np\n\nimport torch\nfrom torchvision import transforms\nimport torch.optim as optim\nimport torch.nn as nn\nimport torch.optim as optim\nfrom torch.optim.lr_scheduler import OneCycleLR\nfrom torch.optim.lr_scheduler import ReduceLROnPlateau\n\n\nfrom vision import dataloaders\nfrom vision.utils import Helper\nfrom vision.models.resnet import ResNet18\nfrom vision.models.customeResNet import CustomModel\nfrom vision.imagetransforms import TorchTransforms,  album_train_transforms, album_test_transforms, trainset_albumentations, testset_albumentations\nfrom vision.train_test_model import RunModel\nfrom vision.lr_finder import LRFinder\nfrom vision import plot_grad\nfrom vision import train_test_model\nfrom vision import train_test_\nfrom vision.lr_range_test import RangeTest\nfrom vision.Tiny_Imagenet_200 import TinyImageNetDataSet, download_images\n\n\nimport matplotlib.pyplot as plt\n%matplotlib inline",
         "execution_count":19,
         "outputs":[

         ]
      },
      {
         "metadata":{
            "id":"KJGUCt-ApH8T",
            "trusted":true
         },
         "cell_type":"code",
         "source":"num_classes = 200\nNet = ResNet18(num_classes)\nhelper = Helper()",
         "execution_count":20,
         "outputs":[

         ]
      },
      {
         "metadata":{
            "id":"eyh48TsSK9v9"
         },
         "cell_type":"markdown",
         "source":"### Model Summary"
      },
      {
         "metadata":{
            "id":"DxFaKebxOpUi",
            "trusted":true
         },
         "cell_type":"code",
         "source":"size =  (3, 64, 64)\nhelper.model_summary(Net, size)",
         "execution_count":21,
         "outputs":[
            {
               "output_type":"stream",
               "text":"----------------------------------------------------------------\n        Layer (type)               Output Shape         Param #\n================================================================\n            Conv2d-1           [-1, 64, 64, 64]           1,728\n       BatchNorm2d-2           [-1, 64, 64, 64]             128\n            Conv2d-3           [-1, 64, 64, 64]          36,864\n       BatchNorm2d-4           [-1, 64, 64, 64]             128\n            Conv2d-5           [-1, 64, 64, 64]          36,864\n       BatchNorm2d-6           [-1, 64, 64, 64]             128\n        BasicBlock-7           [-1, 64, 64, 64]               0\n            Conv2d-8           [-1, 64, 64, 64]          36,864\n       BatchNorm2d-9           [-1, 64, 64, 64]             128\n           Conv2d-10           [-1, 64, 64, 64]          36,864\n      BatchNorm2d-11           [-1, 64, 64, 64]             128\n       BasicBlock-12           [-1, 64, 64, 64]               0\n           Conv2d-13          [-1, 128, 32, 32]          73,728\n      BatchNorm2d-14          [-1, 128, 32, 32]             256\n           Conv2d-15          [-1, 128, 32, 32]         147,456\n      BatchNorm2d-16          [-1, 128, 32, 32]             256\n           Conv2d-17          [-1, 128, 32, 32]           8,192\n      BatchNorm2d-18          [-1, 128, 32, 32]             256\n       BasicBlock-19          [-1, 128, 32, 32]               0\n           Conv2d-20          [-1, 128, 32, 32]         147,456\n      BatchNorm2d-21          [-1, 128, 32, 32]             256\n           Conv2d-22          [-1, 128, 32, 32]         147,456\n      BatchNorm2d-23          [-1, 128, 32, 32]             256\n       BasicBlock-24          [-1, 128, 32, 32]               0\n           Conv2d-25          [-1, 256, 16, 16]         294,912\n      BatchNorm2d-26          [-1, 256, 16, 16]             512\n           Conv2d-27          [-1, 256, 16, 16]         589,824\n      BatchNorm2d-28          [-1, 256, 16, 16]             512\n           Conv2d-29          [-1, 256, 16, 16]          32,768\n      BatchNorm2d-30          [-1, 256, 16, 16]             512\n       BasicBlock-31          [-1, 256, 16, 16]               0\n           Conv2d-32          [-1, 256, 16, 16]         589,824\n      BatchNorm2d-33          [-1, 256, 16, 16]             512\n           Conv2d-34          [-1, 256, 16, 16]         589,824\n      BatchNorm2d-35          [-1, 256, 16, 16]             512\n       BasicBlock-36          [-1, 256, 16, 16]               0\n           Conv2d-37            [-1, 512, 8, 8]       1,179,648\n      BatchNorm2d-38            [-1, 512, 8, 8]           1,024\n           Conv2d-39            [-1, 512, 8, 8]       2,359,296\n      BatchNorm2d-40            [-1, 512, 8, 8]           1,024\n           Conv2d-41            [-1, 512, 8, 8]         131,072\n      BatchNorm2d-42            [-1, 512, 8, 8]           1,024\n       BasicBlock-43            [-1, 512, 8, 8]               0\n           Conv2d-44            [-1, 512, 8, 8]       2,359,296\n      BatchNorm2d-45            [-1, 512, 8, 8]           1,024\n           Conv2d-46            [-1, 512, 8, 8]       2,359,296\n      BatchNorm2d-47            [-1, 512, 8, 8]           1,024\n       BasicBlock-48            [-1, 512, 8, 8]               0\n           Linear-49                  [-1, 200]         102,600\n================================================================\nTotal params: 11,271,432\nTrainable params: 11,271,432\nNon-trainable params: 0\n----------------------------------------------------------------\nInput size (MB): 0.05\nForward/backward pass size (MB): 45.00\nParams size (MB): 43.00\nEstimated Total Size (MB): 88.05\n----------------------------------------------------------------\n",
               "name":"stdout"
            }
         ]
      },
      {
         "metadata":{
            "id":"U6hYiLYZK2XK"
         },
         "cell_type":"markdown",
         "source":"### Download and split dataset"
      },
      {
         "metadata":{
            "id":"XWAfOeD9xUdY",
            "outputId":"1ecb9ede-7e59-47cb-9265-c6a471e37390",
            "executionInfo":{
               "status":"ok",
               "timestamp":1587809458420,
               "user_tz":-330,
               "elapsed":15052,
               "user":{
                  "displayName":"Hemendra Hemu",
                  "photoUrl":"",
                  "userId":"15089905504791515225"
               }
            },
            "trusted":true
         },
         "cell_type":"code",
         "source":"download_images()",
         "execution_count":22,
         "outputs":[
            {
               "output_type":"stream",
               "text":"Images already downloaded...\n",
               "name":"stdout"
            }
         ]
      },
      {
         "metadata":{
            "trusted":true
         },
         "cell_type":"code",
         "source":"ls",
         "execution_count":23,
         "outputs":[
            {
               "output_type":"stream",
               "text":"__notebook_source__.ipynb  \u001b[0m\u001b[01;34mtiny-imagenet-200\u001b[0m/  \u001b[01;34mvision\u001b[0m/\r\n",
               "name":"stdout"
            }
         ]
      },
      {
         "metadata":{
            "id":"2VFx6JVMgNOz",
            "trusted":true
         },
         "cell_type":"code",
         "source":"imagenet_path=  r\"/kaggle/working/tiny-imagenet-200\"\ntest_size = 0.30\n\ntrain_dataset_x, test_dataset_x, train_y, test_y  = TinyImageNetDataSet(imagenet_path, test_size)",
         "execution_count":24,
         "outputs":[

         ]
      },
      {
         "metadata":{
            "id":"fPMMSlLNuGi1"
         },
         "cell_type":"markdown",
         "source":"## Transforms and DataLoaders"
      },
      {
         "metadata":{
            "id":"9gAtCIb0G7tp",
            "trusted":true
         },
         "cell_type":"code",
         "source":"train_transforms = trainset_albumentations(train_dataset_x, train_y)\ntest_transforms = testset_albumentations(test_dataset_x, test_y)\nloader = dataloaders.Loader(train_transforms, test_transforms, 'custom', batch_size=64)\n\ntrain_dataloader  = loader.dataloader_train()\ntest_dataloader = loader.dataloader_test()\ngradcam_dataloader = loader.dataloader_gradcam()",
         "execution_count":25,
         "outputs":[

         ]
      },
      {
         "metadata":{
            "trusted":true
         },
         "cell_type":"code",
         "source":"len(train_transforms), len(test_transforms)",
         "execution_count":26,
         "outputs":[
            {
               "output_type":"execute_result",
               "execution_count":26,
               "data":{
                  "text/plain":"(77000, 33000)"
               },
               "metadata":{

               }
            }
         ]
      },
      {
         "metadata":{
            "id":"-UZMEYDPLCOW"
         },
         "cell_type":"markdown",
         "source":"### LR Range Test"
      },
      {
         "metadata":{
            "id":"KlfN_gxiJ-Xs",
            "trusted":true
         },
         "cell_type":"code",
         "source":"L2 = 1e-4\ncriterion = nn.CrossEntropyLoss()\noptimizer = optim.SGD(Net.parameters(), lr=1e-5,momentum=0.9, weight_decay=L2)#, nesterov=True)\nlr_finder = LRFinder(Net, optimizer, criterion, device=\"cuda\")\nlr_finder.range_test(train_dataloader, val_loader=test_dataloader, end_lr=0.1, num_iter=100, step_mode=\"exp\")\nlr_finder.plot() \nlr_finder.reset()",
         "execution_count":63,
         "outputs":[
            {
               "output_type":"display_data",
               "data":{
                  "text/plain":"HBox(children=(FloatProgress(value=0.0), HTML(value='')))",
                  "application/vnd.jupyter.widget-view+json":{
                     "version_major":2,
                     "version_minor":0,
                     "model_id":"6bc7911b3c7d4f05bd9ee260d63db470"
                  }
               },
               "metadata":{

               }
            },
            {
               "output_type":"stream",
               "text":"Stopping early, the loss has diverged\nLearning rate search finished. See the graph with {finder_name}.plot()\n",
               "name":"stdout"
            },
            {
               "output_type":"display_data",
               "data":{
                  "text/plain":"<Figure size 432x288 with 1 Axes>",
                  "image/png":"[encoded data removed]"
               },
               "metadata":{
                  "needs_background":"light"
               }
            }
         ]
      },
      {
         "metadata":{
            "id":"_zbQLebxKVYx",
            "trusted":true
         },
         "cell_type":"code",
         "source":"loss = lr_finder.history['loss']\nlr = lr_finder.history['lr']\nBest_lr=lr[loss.index(min(loss))]",
         "execution_count":64,
         "outputs":[

         ]
      },
      {
         "metadata":{
            "id":"cLcTAUz3KWaJ",
            "trusted":true
         },
         "cell_type":"code",
         "source":"Best_lr",
         "execution_count":65,
         "outputs":[
            {
               "output_type":"execute_result",
               "execution_count":65,
               "data":{
                  "text/plain":"1.202264434617413e-05"
               },
               "metadata":{

               }
            }
         ]
      },
      {
         "metadata":{
            "id":"IwiNTuuJLFcS"
         },
         "cell_type":"markdown",
         "source":"### Model training"
      },
      {
         "metadata":{
            "id":"oSrFrTTYKOi5",
            "trusted":true
         },
         "cell_type":"code",
         "source":"epochs = 50\nL2 = 0.0001\ncriterion = nn.CrossEntropyLoss()\noptimizer = optim.SGD(Net.parameters(), lr=1e-2,momentum=0.9)#, weight_decay=L2)#, nesterov=True)\nscheduler = ReduceLROnPlateau(optimizer, factor=0.1, patience = 2,min_lr=1e-5)",
         "execution_count":27,
         "outputs":[

         ]
      },
      {
         "metadata":{
            "id":"Ob37JF4yk8dX",
            "outputId":"4da28300-372a-4a53-803f-ff4c09a674da",
            "trusted":true
         },
         "cell_type":"code",
         "source":"run = RunModel(Net, train_dataloader, test_dataloader, optimizer, scheduler, epochs, criterion) \nrun.train_test()",
         "execution_count":28,
         "outputs":[
            {
               "output_type":"stream",
               "text":"\r  0%|          | 0/1204 [00:00<?, ?it/s]",
               "name":"stderr"
            },
            {
               "output_type":"stream",
               "text":"Epoch 1:\n---------\n",
               "name":"stdout"
            },
            {
               "output_type":"stream",
               "text":" Loss=4.581509113311768 Train Accuracy=3.34%: 100%|██████████| 1204/1204 [02:43<00:00,  7.38it/s] \n  0%|          | 0/1204 [00:00<?, ?it/s]",
               "name":"stderr"
            },
            {
               "output_type":"stream",
               "text":"Testing: Average loss: 0.0684, Accuracy: 2645/33000 (8.02%)\nEpoch 2:\n---------\n",
               "name":"stdout"
            },
            {
               "output_type":"stream",
               "text":" Loss=4.011842727661133 Train Accuracy=10.99%: 100%|██████████| 1204/1204 [02:43<00:00,  7.37it/s] \n  0%|          | 0/1204 [00:00<?, ?it/s]",
               "name":"stderr"
            },
            {
               "output_type":"stream",
               "text":"Testing: Average loss: 0.0582, Accuracy: 5342/33000 (16.19%)\nEpoch 3:\n---------\n",
               "name":"stdout"
            },
            {
               "output_type":"stream",
               "text":" Loss=2.7594473361968994 Train Accuracy=18.54%: 100%|██████████| 1204/1204 [02:43<00:00,  7.36it/s]\n  0%|          | 0/1204 [00:00<?, ?it/s]",
               "name":"stderr"
            },
            {
               "output_type":"stream",
               "text":"Testing: Average loss: 0.0515, Accuracy: 7919/33000 (24.00%)\nEpoch 4:\n---------\n",
               "name":"stdout"
            },
            {
               "output_type":"stream",
               "text":" Loss=2.0658624172210693 Train Accuracy=24.64%: 100%|██████████| 1204/1204 [02:43<00:00,  7.39it/s]\n  0%|          | 0/1204 [00:00<?, ?it/s]",
               "name":"stderr"
            },
            {
               "output_type":"stream",
               "text":"Testing: Average loss: 0.0480, Accuracy: 9275/33000 (28.11%)\nEpoch 5:\n---------\n",
               "name":"stdout"
            },
            {
               "output_type":"stream",
               "text":" Loss=1.8563121557235718 Train Accuracy=29.60%: 100%|██████████| 1204/1204 [02:43<00:00,  7.38it/s]\n  0%|          | 0/1204 [00:00<?, ?it/s]",
               "name":"stderr"
            },
            {
               "output_type":"stream",
               "text":"Testing: Average loss: 0.0449, Accuracy: 10657/33000 (32.29%)\nEpoch 6:\n---------\n",
               "name":"stdout"
            },
            {
               "output_type":"stream",
               "text":" Loss=1.4204463958740234 Train Accuracy=33.80%: 100%|██████████| 1204/1204 [02:42<00:00,  7.39it/s]\n  0%|          | 0/1204 [00:00<?, ?it/s]",
               "name":"stderr"
            },
            {
               "output_type":"stream",
               "text":"Testing: Average loss: 0.0424, Accuracy: 11619/33000 (35.21%)\nEpoch 7:\n---------\n",
               "name":"stdout"
            },
            {
               "output_type":"stream",
               "text":" Loss=1.3932217359542847 Train Accuracy=37.52%: 100%|██████████| 1204/1204 [02:43<00:00,  7.37it/s]\n  0%|          | 0/1204 [00:00<?, ?it/s]",
               "name":"stderr"
            },
            {
               "output_type":"stream",
               "text":"Testing: Average loss: 0.0411, Accuracy: 12354/33000 (37.44%)\nEpoch 8:\n---------\n",
               "name":"stdout"
            },
            {
               "output_type":"stream",
               "text":" Loss=0.7503710389137268 Train Accuracy=40.62%: 100%|██████████| 1204/1204 [02:43<00:00,  7.38it/s]\n  0%|          | 0/1204 [00:00<?, ?it/s]",
               "name":"stderr"
            },
            {
               "output_type":"stream",
               "text":"Testing: Average loss: 0.0394, Accuracy: 13142/33000 (39.82%)\nEpoch 9:\n---------\n",
               "name":"stdout"
            },
            {
               "output_type":"stream",
               "text":" Loss=0.6293511390686035 Train Accuracy=43.61%: 100%|██████████| 1204/1204 [02:43<00:00,  7.38it/s]\n  0%|          | 0/1204 [00:00<?, ?it/s]",
               "name":"stderr"
            },
            {
               "output_type":"stream",
               "text":"Testing: Average loss: 0.0386, Accuracy: 13542/33000 (41.04%)\nEpoch 10:\n---------\n",
               "name":"stdout"
            },
            {
               "output_type":"stream",
               "text":" Loss=0.5730704069137573 Train Accuracy=46.37%: 100%|██████████| 1204/1204 [02:43<00:00,  7.37it/s]\n  0%|          | 0/1204 [00:00<?, ?it/s]",
               "name":"stderr"
            },
            {
               "output_type":"stream",
               "text":"Testing: Average loss: 0.0377, Accuracy: 14034/33000 (42.53%)\nEpoch 11:\n---------\n",
               "name":"stdout"
            },
            {
               "output_type":"stream",
               "text":" Loss=0.5251584649085999 Train Accuracy=48.91%: 100%|██████████| 1204/1204 [02:43<00:00,  7.38it/s]\n  0%|          | 0/1204 [00:00<?, ?it/s]",
               "name":"stderr"
            },
            {
               "output_type":"stream",
               "text":"Testing: Average loss: 0.0363, Accuracy: 14697/33000 (44.54%)\nEpoch 12:\n---------\n",
               "name":"stdout"
            },
            {
               "output_type":"stream",
               "text":" Loss=0.16347050666809082 Train Accuracy=51.25%: 100%|██████████| 1204/1204 [02:43<00:00,  7.38it/s]\n  0%|          | 0/1204 [00:00<?, ?it/s]",
               "name":"stderr"
            },
            {
               "output_type":"stream",
               "text":"Testing: Average loss: 0.0363, Accuracy: 14758/33000 (44.72%)\nEpoch 13:\n---------\n",
               "name":"stdout"
            },
            {
               "output_type":"stream",
               "text":" Loss=0.3939531445503235 Train Accuracy=53.65%: 100%|██████████| 1204/1204 [02:43<00:00,  7.38it/s]\n  0%|          | 0/1204 [00:00<?, ?it/s]",
               "name":"stderr"
            },
            {
               "output_type":"stream",
               "text":"Testing: Average loss: 0.0367, Accuracy: 14877/33000 (45.08%)\nEpoch 14:\n---------\n",
               "name":"stdout"
            },
            {
               "output_type":"stream",
               "text":" Loss=0.3579779863357544 Train Accuracy=55.70%: 100%|██████████| 1204/1204 [02:43<00:00,  7.38it/s]\n  0%|          | 0/1204 [00:00<?, ?it/s]",
               "name":"stderr"
            },
            {
               "output_type":"stream",
               "text":"Testing: Average loss: 0.0364, Accuracy: 15247/33000 (46.20%)\nEpoch 15:\n---------\n",
               "name":"stdout"
            },
            {
               "output_type":"stream",
               "text":" Loss=0.1732081174850464 Train Accuracy=57.85%: 100%|██████████| 1204/1204 [02:43<00:00,  7.38it/s]\n  0%|          | 0/1204 [00:00<?, ?it/s]",
               "name":"stderr"
            },
            {
               "output_type":"stream",
               "text":"Testing: Average loss: 0.0357, Accuracy: 15430/33000 (46.76%)\nEpoch 16:\n---------\n",
               "name":"stdout"
            },
            {
               "output_type":"stream",
               "text":" Loss=0.15170931816101074 Train Accuracy=66.75%: 100%|██████████| 1204/1204 [02:43<00:00,  7.38it/s]\n  0%|          | 0/1204 [00:00<?, ?it/s]",
               "name":"stderr"
            },
            {
               "output_type":"stream",
               "text":"Testing: Average loss: 0.0297, Accuracy: 17848/33000 (54.08%)\nEpoch 17:\n---------\n",
               "name":"stdout"
            },
            {
               "output_type":"stream",
               "text":" Loss=0.04350149631500244 Train Accuracy=68.96%: 100%|██████████| 1204/1204 [02:43<00:00,  7.38it/s]\n  0%|          | 0/1204 [00:00<?, ?it/s]",
               "name":"stderr"
            },
            {
               "output_type":"stream",
               "text":"Testing: Average loss: 0.0295, Accuracy: 17992/33000 (54.52%)\nEpoch 18:\n---------\n",
               "name":"stdout"
            },
            {
               "output_type":"stream",
               "text":" Loss=0.060924530029296875 Train Accuracy=70.23%: 100%|██████████| 1204/1204 [02:43<00:00,  7.36it/s]\n  0%|          | 0/1204 [00:00<?, ?it/s]",
               "name":"stderr"
            },
            {
               "output_type":"stream",
               "text":"Testing: Average loss: 0.0294, Accuracy: 18034/33000 (54.65%)\nEpoch 19:\n---------\n",
               "name":"stdout"
            },
            {
               "output_type":"stream",
               "text":" Loss=0.09852540493011475 Train Accuracy=71.19%: 100%|██████████| 1204/1204 [02:43<00:00,  7.36it/s]\n  0%|          | 0/1204 [00:00<?, ?it/s]",
               "name":"stderr"
            },
            {
               "output_type":"stream",
               "text":"Testing: Average loss: 0.0294, Accuracy: 18070/33000 (54.76%)\nEpoch 20:\n---------\n",
               "name":"stdout"
            },
            {
               "output_type":"stream",
               "text":" Loss=0.04024457931518555 Train Accuracy=72.05%: 100%|██████████| 1204/1204 [02:43<00:00,  7.35it/s]\n  0%|          | 0/1204 [00:00<?, ?it/s]",
               "name":"stderr"
            },
            {
               "output_type":"stream",
               "text":"Testing: Average loss: 0.0294, Accuracy: 18070/33000 (54.76%)\nEpoch 21:\n---------\n",
               "name":"stdout"
            },
            {
               "output_type":"stream",
               "text":" Loss=0.09014356136322021 Train Accuracy=72.85%: 100%|██████████| 1204/1204 [02:43<00:00,  7.37it/s]\n  0%|          | 0/1204 [00:00<?, ?it/s]",
               "name":"stderr"
            },
            {
               "output_type":"stream",
               "text":"Testing: Average loss: 0.0294, Accuracy: 18079/33000 (54.78%)\nEpoch 22:\n---------\n",
               "name":"stdout"
            },
            {
               "output_type":"stream",
               "text":" Loss=0.15598225593566895 Train Accuracy=73.69%: 100%|██████████| 1204/1204 [02:43<00:00,  7.38it/s]\n  0%|          | 0/1204 [00:00<?, ?it/s]",
               "name":"stderr"
            },
            {
               "output_type":"stream",
               "text":"Testing: Average loss: 0.0295, Accuracy: 18053/33000 (54.71%)\nEpoch 23:\n---------\n",
               "name":"stdout"
            },
            {
               "output_type":"stream",
               "text":" Loss=0.026722311973571777 Train Accuracy=74.16%: 100%|██████████| 1204/1204 [02:43<00:00,  7.37it/s]\n  0%|          | 0/1204 [00:00<?, ?it/s]",
               "name":"stderr"
            },
            {
               "output_type":"stream",
               "text":"Testing: Average loss: 0.0296, Accuracy: 18067/33000 (54.75%)\nEpoch 24:\n---------\n",
               "name":"stdout"
            },
            {
               "output_type":"stream",
               "text":" Loss=0.08695602416992188 Train Accuracy=74.78%: 100%|██████████| 1204/1204 [02:43<00:00,  7.37it/s]\n  0%|          | 0/1204 [00:00<?, ?it/s]",
               "name":"stderr"
            },
            {
               "output_type":"stream",
               "text":"Testing: Average loss: 0.0297, Accuracy: 18080/33000 (54.79%)\nEpoch 25:\n---------\n",
               "name":"stdout"
            },
            {
               "output_type":"stream",
               "text":" Loss=0.0263289213180542 Train Accuracy=75.63%: 100%|██████████| 1204/1204 [02:43<00:00,  7.37it/s]\n  0%|          | 0/1204 [00:00<?, ?it/s]",
               "name":"stderr"
            },
            {
               "output_type":"stream",
               "text":"Testing: Average loss: 0.0298, Accuracy: 18057/33000 (54.72%)\nEpoch 26:\n---------\n",
               "name":"stdout"
            },
            {
               "output_type":"stream",
               "text":" Loss=0.02844703197479248 Train Accuracy=76.28%: 100%|██████████| 1204/1204 [02:42<00:00,  7.40it/s]\n  0%|          | 0/1204 [00:00<?, ?it/s]",
               "name":"stderr"
            },
            {
               "output_type":"stream",
               "text":"Testing: Average loss: 0.0299, Accuracy: 18083/33000 (54.80%)\nEpoch 27:\n---------\n",
               "name":"stdout"
            },
            {
               "output_type":"stream",
               "text":" Loss=0.10324287414550781 Train Accuracy=76.99%: 100%|██████████| 1204/1204 [02:43<00:00,  7.38it/s]\n  0%|          | 0/1204 [00:00<?, ?it/s]",
               "name":"stderr"
            },
            {
               "output_type":"stream",
               "text":"Testing: Average loss: 0.0299, Accuracy: 18005/33000 (54.56%)\nEpoch 28:\n---------\n",
               "name":"stdout"
            },
            {
               "output_type":"stream",
               "text":" Loss=0.06439661979675293 Train Accuracy=77.62%: 100%|██████████| 1204/1204 [02:43<00:00,  7.38it/s]\n  0%|          | 0/1204 [00:00<?, ?it/s]",
               "name":"stderr"
            },
            {
               "output_type":"stream",
               "text":"Testing: Average loss: 0.0300, Accuracy: 18046/33000 (54.68%)\nEpoch 29:\n---------\n",
               "name":"stdout"
            },
            {
               "output_type":"stream",
               "text":" Loss=0.02094101905822754 Train Accuracy=78.97%: 100%|██████████| 1204/1204 [02:42<00:00,  7.40it/s]\n  0%|          | 0/1204 [00:00<?, ?it/s]",
               "name":"stderr"
            },
            {
               "output_type":"stream",
               "text":"Testing: Average loss: 0.0296, Accuracy: 18235/33000 (55.26%)\nEpoch 30:\n---------\n",
               "name":"stdout"
            },
            {
               "output_type":"stream",
               "text":" Loss=0.021031737327575684 Train Accuracy=79.68%: 100%|██████████| 1204/1204 [02:42<00:00,  7.39it/s]\n  0%|          | 0/1204 [00:00<?, ?it/s]",
               "name":"stderr"
            },
            {
               "output_type":"stream",
               "text":"Testing: Average loss: 0.0296, Accuracy: 18198/33000 (55.15%)\nEpoch 31:\n---------\n",
               "name":"stdout"
            },
            {
               "output_type":"stream",
               "text":" Loss=0.0668414831161499 Train Accuracy=79.50%: 100%|██████████| 1204/1204 [02:43<00:00,  7.38it/s] \n  0%|          | 0/1204 [00:00<?, ?it/s]",
               "name":"stderr"
            },
            {
               "output_type":"stream",
               "text":"Testing: Average loss: 0.0296, Accuracy: 18209/33000 (55.18%)\nEpoch 32:\n---------\n",
               "name":"stdout"
            },
            {
               "output_type":"stream",
               "text":" Loss=0.02303445339202881 Train Accuracy=79.72%: 100%|██████████| 1204/1204 [02:43<00:00,  7.38it/s]\n  0%|          | 0/1204 [00:00<?, ?it/s]",
               "name":"stderr"
            },
            {
               "output_type":"stream",
               "text":"Testing: Average loss: 0.0295, Accuracy: 18213/33000 (55.19%)\nEpoch 33:\n---------\n",
               "name":"stdout"
            },
            {
               "output_type":"stream",
               "text":" Loss=0.08170044422149658 Train Accuracy=80.21%: 100%|██████████| 1204/1204 [02:43<00:00,  7.38it/s]\n  0%|          | 0/1204 [00:00<?, ?it/s]",
               "name":"stderr"
            },
            {
               "output_type":"stream",
               "text":"Testing: Average loss: 0.0295, Accuracy: 18233/33000 (55.25%)\nEpoch 34:\n---------\n",
               "name":"stdout"
            },
            {
               "output_type":"stream",
               "text":" Loss=0.021414518356323242 Train Accuracy=80.13%: 100%|██████████| 1204/1204 [02:43<00:00,  7.38it/s]\n  0%|          | 0/1204 [00:00<?, ?it/s]",
               "name":"stderr"
            },
            {
               "output_type":"stream",
               "text":"Testing: Average loss: 0.0295, Accuracy: 18223/33000 (55.22%)\nEpoch 35:\n---------\n",
               "name":"stdout"
            },
            {
               "output_type":"stream",
               "text":" Loss=0.055080533027648926 Train Accuracy=80.19%: 100%|██████████| 1204/1204 [02:43<00:00,  7.38it/s]\n  0%|          | 0/1204 [00:00<?, ?it/s]",
               "name":"stderr"
            },
            {
               "output_type":"stream",
               "text":"Testing: Average loss: 0.0295, Accuracy: 18214/33000 (55.19%)\nEpoch 36:\n---------\n",
               "name":"stdout"
            },
            {
               "output_type":"stream",
               "text":" Loss=0.035465359687805176 Train Accuracy=80.14%: 100%|██████████| 1204/1204 [02:42<00:00,  7.39it/s]\n  0%|          | 0/1204 [00:00<?, ?it/s]",
               "name":"stderr"
            },
            {
               "output_type":"stream",
               "text":"Testing: Average loss: 0.0295, Accuracy: 18224/33000 (55.22%)\nEpoch 37:\n---------\n",
               "name":"stdout"
            },
            {
               "output_type":"stream",
               "text":" Loss=0.02228689193725586 Train Accuracy=80.15%: 100%|██████████| 1204/1204 [02:43<00:00,  7.38it/s]\n  0%|          | 0/1204 [00:00<?, ?it/s]",
               "name":"stderr"
            },
            {
               "output_type":"stream",
               "text":"Testing: Average loss: 0.0295, Accuracy: 18253/33000 (55.31%)\nEpoch 38:\n---------\n",
               "name":"stdout"
            },
            {
               "output_type":"stream",
               "text":" Loss=0.03447771072387695 Train Accuracy=80.23%: 100%|██████████| 1204/1204 [02:43<00:00,  7.38it/s]\n  0%|          | 0/1204 [00:00<?, ?it/s]",
               "name":"stderr"
            },
            {
               "output_type":"stream",
               "text":"Testing: Average loss: 0.0295, Accuracy: 18206/33000 (55.17%)\nEpoch 39:\n---------\n",
               "name":"stdout"
            },
            {
               "output_type":"stream",
               "text":" Loss=0.022941946983337402 Train Accuracy=79.94%: 100%|██████████| 1204/1204 [02:43<00:00,  7.37it/s]\n  0%|          | 0/1204 [00:00<?, ?it/s]",
               "name":"stderr"
            },
            {
               "output_type":"stream",
               "text":"Testing: Average loss: 0.0295, Accuracy: 18210/33000 (55.18%)\nEpoch 40:\n---------\n",
               "name":"stdout"
            },
            {
               "output_type":"stream",
               "text":" Loss=0.03734326362609863 Train Accuracy=80.07%: 100%|██████████| 1204/1204 [02:43<00:00,  7.38it/s]\n  0%|          | 0/1204 [00:00<?, ?it/s]",
               "name":"stderr"
            },
            {
               "output_type":"stream",
               "text":"Testing: Average loss: 0.0295, Accuracy: 18221/33000 (55.22%)\nEpoch 41:\n---------\n",
               "name":"stdout"
            },
            {
               "output_type":"stream",
               "text":" Loss=0.06270051002502441 Train Accuracy=80.43%: 100%|██████████| 1204/1204 [02:43<00:00,  7.36it/s]\n  0%|          | 0/1204 [00:00<?, ?it/s]",
               "name":"stderr"
            },
            {
               "output_type":"stream",
               "text":"Testing: Average loss: 0.0295, Accuracy: 18216/33000 (55.20%)\nEpoch 42:\n---------\n",
               "name":"stdout"
            },
            {
               "output_type":"stream",
               "text":" Loss=0.1813443899154663 Train Accuracy=80.24%: 100%|██████████| 1204/1204 [02:43<00:00,  7.38it/s] \n  0%|          | 0/1204 [00:00<?, ?it/s]",
               "name":"stderr"
            },
            {
               "output_type":"stream",
               "text":"Testing: Average loss: 0.0296, Accuracy: 18208/33000 (55.18%)\nEpoch 43:\n---------\n",
               "name":"stdout"
            },
            {
               "output_type":"stream",
               "text":" Loss=0.03984248638153076 Train Accuracy=80.26%: 100%|██████████| 1204/1204 [02:43<00:00,  7.38it/s]\n  0%|          | 0/1204 [00:00<?, ?it/s]",
               "name":"stderr"
            },
            {
               "output_type":"stream",
               "text":"Testing: Average loss: 0.0295, Accuracy: 18197/33000 (55.14%)\nEpoch 44:\n---------\n",
               "name":"stdout"
            },
            {
               "output_type":"stream",
               "text":" Loss=0.025079965591430664 Train Accuracy=80.47%: 100%|██████████| 1204/1204 [02:43<00:00,  7.37it/s]\n  0%|          | 0/1204 [00:00<?, ?it/s]",
               "name":"stderr"
            },
            {
               "output_type":"stream",
               "text":"Testing: Average loss: 0.0295, Accuracy: 18230/33000 (55.24%)\nEpoch 45:\n---------\n",
               "name":"stdout"
            },
            {
               "output_type":"stream",
               "text":" Loss=0.047315239906311035 Train Accuracy=80.25%: 100%|██████████| 1204/1204 [02:43<00:00,  7.38it/s]\n  0%|          | 0/1204 [00:00<?, ?it/s]",
               "name":"stderr"
            },
            {
               "output_type":"stream",
               "text":"Testing: Average loss: 0.0295, Accuracy: 18240/33000 (55.27%)\nEpoch 46:\n---------\n",
               "name":"stdout"
            },
            {
               "output_type":"stream",
               "text":" Loss=0.02049553394317627 Train Accuracy=80.15%: 100%|██████████| 1204/1204 [02:43<00:00,  7.37it/s]\n  0%|          | 0/1204 [00:00<?, ?it/s]",
               "name":"stderr"
            },
            {
               "output_type":"stream",
               "text":"Testing: Average loss: 0.0295, Accuracy: 18232/33000 (55.25%)\nEpoch 47:\n---------\n",
               "name":"stdout"
            },
            {
               "output_type":"stream",
               "text":" Loss=0.10599136352539062 Train Accuracy=80.26%: 100%|██████████| 1204/1204 [02:43<00:00,  7.38it/s]\n  0%|          | 0/1204 [00:00<?, ?it/s]",
               "name":"stderr"
            },
            {
               "output_type":"stream",
               "text":"Testing: Average loss: 0.0295, Accuracy: 18210/33000 (55.18%)\nEpoch 48:\n---------\n",
               "name":"stdout"
            },
            {
               "output_type":"stream",
               "text":" Loss=0.05045604705810547 Train Accuracy=80.41%: 100%|██████████| 1204/1204 [02:43<00:00,  7.38it/s]\n  0%|          | 0/1204 [00:00<?, ?it/s]",
               "name":"stderr"
            },
            {
               "output_type":"stream",
               "text":"Testing: Average loss: 0.0295, Accuracy: 18225/33000 (55.23%)\nEpoch 49:\n---------\n",
               "name":"stdout"
            },
            {
               "output_type":"stream",
               "text":" Loss=0.0617518424987793 Train Accuracy=80.54%: 100%|██████████| 1204/1204 [02:43<00:00,  7.38it/s] \n  0%|          | 0/1204 [00:00<?, ?it/s]",
               "name":"stderr"
            },
            {
               "output_type":"stream",
               "text":"Testing: Average loss: 0.0295, Accuracy: 18229/33000 (55.24%)\nEpoch 50:\n---------\n",
               "name":"stdout"
            },
            {
               "output_type":"stream",
               "text":" Loss=0.08278191089630127 Train Accuracy=80.23%: 100%|██████████| 1204/1204 [02:42<00:00,  7.40it/s]\n",
               "name":"stderr"
            },
            {
               "output_type":"stream",
               "text":"Testing: Average loss: 0.0295, Accuracy: 18198/33000 (55.15%)\n",
               "name":"stdout"
            }
         ]
      },
      {
         "metadata":{
            "id":"zqfpswLqt7bR"
         },
         "cell_type":"markdown",
         "source":"## Train-Test Accuracy and Loss Graphs"
      },
      {
         "metadata":{
            "id":"Lmv-JkKNZciz",
            "trusted":true
         },
         "cell_type":"code",
         "source":"train_acc, test_acc = run.get_accuracies()\ntrain_losses, test_losses = run.get_losses()",
         "execution_count":29,
         "outputs":[

         ]
      },
      {
         "metadata":{
            "id":"hjnKZ3WgO0dS",
            "trusted":true
         },
         "cell_type":"code",
         "source":"helper.plot_acc_graph(train_acc, test_acc, epochs)",
         "execution_count":30,
         "outputs":[
            {
               "output_type":"display_data",
               "data":{
                  "text/plain":"<Figure size 1080x720 with 1 Axes>",
                  "image/png":"[encoded data removed]"
               },
               "metadata":{
                  "needs_background":"light"
               }
            }
         ]
      },
      {
         "metadata":{
            "id":"y9Ze49NFVUxd",
            "trusted":true
         },
         "cell_type":"code",
         "source":"helper.plot_loss_graph(train_losses, test_losses, epochs)",
         "execution_count":31,
         "outputs":[
            {
               "output_type":"display_data",
               "data":{
                  "text/plain":"<Figure size 1080x720 with 1 Axes>",
                  "image/png":"[encoded data removed]"
               },
               "metadata":{
                  "needs_background":"light"
               }
            }
         ]
      },
      {
         "metadata":{
            "id":"rbb5RCLUV2mg",
            "trusted":false
         },
         "cell_type":"code",
         "source":"",
         "execution_count":0,
         "outputs":[

         ]
      }
   ],
   "metadata":{
      "kernelspec":{
         "name":"python3",
         "display_name":"Python 3"
      },
      "language_info":{
         "codemirror_mode":{
            "name":"ipython",
            "version":3
         },
         "file_extension":".py",
         "mimetype":"text/x-python",
         "name":"python",
         "nbconvert_exporter":"python",
         "pygments_lexer":"ipython3",
         "version":"3.6.6"
      },
      "colab":{
         "name":"main.ipynb",
         "provenance":[

         ],
         "collapsed_sections":[

         ],
         "toc_visible":true
      },
      "accelerator":"GPU"
   },
   "nbformat":4,
   "nbformat_minor":4
}