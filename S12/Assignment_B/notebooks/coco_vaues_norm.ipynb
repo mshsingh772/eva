{
 "cells": [
  {
   "cell_type": "code",
   "execution_count": 109,
   "metadata": {},
   "outputs": [],
   "source": [
    "import os\n",
    "import json"
   ]
  },
  {
   "cell_type": "code",
   "execution_count": 110,
   "metadata": {},
   "outputs": [],
   "source": [
    "coco_path = r\"E:\\EVA4_Git\\S12\\json\\EVA4_annotations_coco.json\""
   ]
  },
  {
   "cell_type": "code",
   "execution_count": 111,
   "metadata": {},
   "outputs": [],
   "source": [
    "with open(coco_path, 'r') as fp:\n",
    "    coco_json = json.load(fp)"
   ]
  },
  {
   "cell_type": "code",
   "execution_count": 112,
   "metadata": {},
   "outputs": [],
   "source": [
    "images_list = coco_json.get('images')\n",
    "coor_list = coco_json.get('annotations')"
   ]
  },
  {
   "cell_type": "code",
   "execution_count": 113,
   "metadata": {},
   "outputs": [],
   "source": [
    "#\"bbox\": [x,y,width,height],\n",
    "# norm: x = x/w,  y= y/w,  "
   ]
  },
  {
   "cell_type": "code",
   "execution_count": 114,
   "metadata": {},
   "outputs": [
    {
     "data": {
      "text/plain": [
       "(50, 64)"
      ]
     },
     "execution_count": 114,
     "metadata": {},
     "output_type": "execute_result"
    }
   ],
   "source": [
    "len(images_list), len(coor_list)"
   ]
  },
  {
   "cell_type": "code",
   "execution_count": 115,
   "metadata": {},
   "outputs": [],
   "source": [
    "images_list_norms = []\n",
    "coor_list_norms = []\n",
    "for img in images_list:\n",
    "    for co in coor_list:\n",
    "        if img.get('id') == int(co.get('image_id').strip()):\n",
    "            w = img.get('width')\n",
    "            h = img.get('height')\n",
    "            co['bbox'][0] = co['bbox'][0] / w\n",
    "            co['bbox'][1] = co['bbox'][1] / h\n",
    "            co['bbox'][2] = co['bbox'][2] / w\n",
    "            co['bbox'][3] = co['bbox'][3] / h\n",
    "            coor_list_norms.append(co)\n",
    "    img['width'] = 1\n",
    "    img['height'] = 1\n",
    "    images_list_norms.append(img)\n"
   ]
  },
  {
   "cell_type": "code",
   "execution_count": 116,
   "metadata": {},
   "outputs": [
    {
     "data": {
      "text/plain": [
       "(50, 64)"
      ]
     },
     "execution_count": 116,
     "metadata": {},
     "output_type": "execute_result"
    }
   ],
   "source": [
    "len(images_list_norms), len(coor_list_norms)"
   ]
  },
  {
   "cell_type": "code",
   "execution_count": 117,
   "metadata": {},
   "outputs": [],
   "source": [
    "coco_json['images'] = images_list_norms\n",
    "coco_json['annotations'] = coor_list_norms"
   ]
  },
  {
   "cell_type": "code",
   "execution_count": 118,
   "metadata": {},
   "outputs": [],
   "source": [
    "with open(\"E:\\EVA4_Git\\S12\\json\\EVA4_annotations_coco_norm.json\", 'w') as fp:\n",
    "    json.dump(coco_json, fp)"
   ]
  },
  {
   "cell_type": "code",
   "execution_count": null,
   "metadata": {},
   "outputs": [],
   "source": []
  },
  {
   "cell_type": "code",
   "execution_count": null,
   "metadata": {},
   "outputs": [],
   "source": []
  },
  {
   "cell_type": "code",
   "execution_count": null,
   "metadata": {},
   "outputs": [],
   "source": []
  }
 ],
 "metadata": {
  "kernelspec": {
   "display_name": "Python 3",
   "language": "python",
   "name": "python3"
  },
  "language_info": {
   "codemirror_mode": {
    "name": "ipython",
    "version": 3
   },
   "file_extension": ".py",
   "mimetype": "text/x-python",
   "name": "python",
   "nbconvert_exporter": "python",
   "pygments_lexer": "ipython3",
   "version": "3.7.3"
  }
 },
 "nbformat": 4,
 "nbformat_minor": 2
}
