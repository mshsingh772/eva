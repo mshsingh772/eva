{
  "nbformat": 4,
  "nbformat_minor": 0,
  "metadata": {
    "colab": {
      "name": "Final SubmissionV3 of EVA4 - Session 2.ipynb",
      "provenance": [],
      "collapsed_sections": []
    },
    "kernelspec": {
      "name": "python3",
      "display_name": "Python 3"
    },
    "accelerator": "GPU"
  },
  "cells": [
    {
      "cell_type": "code",
      "metadata": {
        "id": "0m2JWFliFfKT",
        "colab_type": "code",
        "colab": {}
      },
      "source": [
        "from __future__ import print_function\n",
        "import torch\n",
        "import torch.nn as nn\n",
        "import torch.nn.functional as F\n",
        "import torch.optim as optim\n",
        "from torchvision import datasets, transforms"
      ],
      "execution_count": 0,
      "outputs": []
    },
    {
      "cell_type": "code",
      "metadata": {
        "id": "dYscuWaEaT39",
        "colab_type": "code",
        "colab": {}
      },
      "source": [
        "class Net(nn.Module):\n",
        "    def __init__(self):\n",
        "        super(Net, self).__init__()\n",
        "        self.conv1 = nn.Conv2d(1, 8, 3, padding=1, bias=False) #28\n",
        "        self.norm1 = nn.BatchNorm2d(8)\n",
        "        self.drop = nn.Dropout2d(0.1)\n",
        "        self.conv2 = nn.Conv2d(8, 12, 3, padding=1, bias=False) #28\n",
        "        self.norm2 = nn.BatchNorm2d(12)\n",
        "        self.drop = nn.Dropout2d(0.1)\n",
        "        self.pool = nn.MaxPool2d(2, 2) #14\n",
        "\n",
        "        self.conv3 = nn.Conv2d(12, 16, 3, padding=1, bias=False) #14\n",
        "        self.norm3 = nn.BatchNorm2d(16)\n",
        "        self.drop = nn.Dropout2d(0.1)\n",
        "        self.conv4 = nn.Conv2d(16, 20, 3, padding=1, bias=False) #14\n",
        "        self.norm4 = nn.BatchNorm2d(20)\n",
        "        self.drop = nn.Dropout2d(0.1)\n",
        "        self.pool = nn.MaxPool2d(2,2) #7\n",
        "\n",
        "        self.conv5 = nn.Conv2d(20, 24, 3, bias=False) #5\n",
        "        self.norm5 = nn.BatchNorm2d(24)\n",
        "        self.conv6 = nn.Conv2d(24, 28, 3, bias=False) #3\n",
        "        self.antman = nn.Conv2d(28, 10 , 1, bias=False)#3\n",
        "        self.gap = nn.AvgPool2d(3)#1\n",
        "\n",
        "    def forward(self, x):\n",
        "      x = F.relu(self.conv1(x))\n",
        "      x = self.norm1(x)\n",
        "      x = self.drop(x)\n",
        "      x = F.relu(self.conv2(x))\n",
        "      x = self.norm2(x)\n",
        "      x = self.drop(x)\n",
        "      x = self.pool(x)\n",
        "\n",
        "      x = F.relu(self.conv3(x))\n",
        "      x = self.norm3(x)\n",
        "      x = self.drop(x)\n",
        "      x = F.relu(self.conv4(x))\n",
        "      x = self.norm4(x)\n",
        "      x = self.drop(x)\n",
        "      x = self.pool(x)\n",
        "\n",
        "      x = F.relu(self.conv5(x))\n",
        "      x = self.norm5(x)\n",
        "      x = F.relu(self.conv6(x))\n",
        "      x = self.antman(x)\n",
        "      x = self.gap(x)\n",
        "      x = x.view(-1, 10)\n",
        "\n",
        "      return F.log_softmax(x)"
      ],
      "execution_count": 0,
      "outputs": []
    },
    {
      "cell_type": "code",
      "metadata": {
        "colab_type": "code",
        "id": "xdydjYTZFyi3",
        "outputId": "92a05d66-175f-4111-f61b-56c146c99d5b",
        "colab": {
          "base_uri": "https://localhost:8080/",
          "height": 591
        }
      },
      "source": [
        "# !pip install torchsummary\n",
        "from torchsummary import summary\n",
        "use_cuda = torch.cuda.is_available()\n",
        "device = torch.device(\"cuda\" if use_cuda else \"cpu\")\n",
        "model = Net().to(device)\n",
        "summary(model, input_size=(1, 28, 28))"
      ],
      "execution_count": 28,
      "outputs": [
        {
          "output_type": "stream",
          "text": [
            "----------------------------------------------------------------\n",
            "        Layer (type)               Output Shape         Param #\n",
            "================================================================\n",
            "            Conv2d-1            [-1, 8, 28, 28]              72\n",
            "       BatchNorm2d-2            [-1, 8, 28, 28]              16\n",
            "         Dropout2d-3            [-1, 8, 28, 28]               0\n",
            "            Conv2d-4           [-1, 12, 28, 28]             864\n",
            "       BatchNorm2d-5           [-1, 12, 28, 28]              24\n",
            "         Dropout2d-6           [-1, 12, 28, 28]               0\n",
            "         MaxPool2d-7           [-1, 12, 14, 14]               0\n",
            "            Conv2d-8           [-1, 16, 14, 14]           1,728\n",
            "       BatchNorm2d-9           [-1, 16, 14, 14]              32\n",
            "        Dropout2d-10           [-1, 16, 14, 14]               0\n",
            "           Conv2d-11           [-1, 20, 14, 14]           2,880\n",
            "      BatchNorm2d-12           [-1, 20, 14, 14]              40\n",
            "        Dropout2d-13           [-1, 20, 14, 14]               0\n",
            "        MaxPool2d-14             [-1, 20, 7, 7]               0\n",
            "           Conv2d-15             [-1, 24, 5, 5]           4,320\n",
            "      BatchNorm2d-16             [-1, 24, 5, 5]              48\n",
            "           Conv2d-17             [-1, 28, 3, 3]           6,048\n",
            "           Conv2d-18             [-1, 10, 3, 3]             280\n",
            "        AvgPool2d-19             [-1, 10, 1, 1]               0\n",
            "================================================================\n",
            "Total params: 16,352\n",
            "Trainable params: 16,352\n",
            "Non-trainable params: 0\n",
            "----------------------------------------------------------------\n",
            "Input size (MB): 0.00\n",
            "Forward/backward pass size (MB): 0.56\n",
            "Params size (MB): 0.06\n",
            "Estimated Total Size (MB): 0.62\n",
            "----------------------------------------------------------------\n"
          ],
          "name": "stdout"
        },
        {
          "output_type": "stream",
          "text": [
            "/usr/local/lib/python3.6/dist-packages/ipykernel_launcher.py:50: UserWarning: Implicit dimension choice for log_softmax has been deprecated. Change the call to include dim=X as an argument.\n"
          ],
          "name": "stderr"
        }
      ]
    },
    {
      "cell_type": "code",
      "metadata": {
        "id": "DqTWLaM5GHgH",
        "colab_type": "code",
        "colab": {}
      },
      "source": [
        "torch.manual_seed(1)\n",
        "batch_size = 64\n",
        "\n",
        "kwargs = {'num_workers': 1, 'pin_memory': True} if use_cuda else {}\n",
        "train_loader = torch.utils.data.DataLoader(\n",
        "    datasets.MNIST('../data', train=True, download=True,\n",
        "                    transform=transforms.Compose([\n",
        "                        transforms.ToTensor(),\n",
        "                        transforms.Normalize((0.1307,), (0.3081,))\n",
        "                    ])),\n",
        "    batch_size=batch_size, shuffle=True, **kwargs)\n",
        "test_loader = torch.utils.data.DataLoader(\n",
        "    datasets.MNIST('../data', train=False, transform=transforms.Compose([\n",
        "                        transforms.ToTensor(),\n",
        "                        transforms.Normalize((0.1307,), (0.3081,))\n",
        "                    ])),\n",
        "    batch_size=batch_size, shuffle=True, **kwargs)\n"
      ],
      "execution_count": 0,
      "outputs": []
    },
    {
      "cell_type": "code",
      "metadata": {
        "id": "8fDefDhaFlwH",
        "colab_type": "code",
        "colab": {}
      },
      "source": [
        "from tqdm import tqdm\n",
        "def train(model, device, train_loader, optimizer, epoch):\n",
        "    model.train()\n",
        "    pbar = tqdm(train_loader)\n",
        "    for batch_idx, (data, target) in enumerate(pbar):\n",
        "        data, target = data.to(device), target.to(device)\n",
        "        optimizer.zero_grad()\n",
        "        output = model(data)\n",
        "        loss = F.nll_loss(output, target)\n",
        "        loss.backward()\n",
        "        optimizer.step()\n",
        "        pbar.set_description(desc= f'loss={loss.item()} batch_id={batch_idx}')\n",
        "\n",
        "\n",
        "def test(model, device, test_loader):\n",
        "    model.eval()\n",
        "    test_loss = 0\n",
        "    correct = 0\n",
        "    with torch.no_grad():\n",
        "        for data, target in test_loader:\n",
        "            data, target = data.to(device), target.to(device)\n",
        "            output = model(data)\n",
        "            test_loss += F.nll_loss(output, target, reduction='sum').item()  # sum up batch loss\n",
        "            pred = output.argmax(dim=1, keepdim=True)  # get the index of the max log-probability\n",
        "            correct += pred.eq(target.view_as(pred)).sum().item()\n",
        "\n",
        "    test_loss /= len(test_loader.dataset)\n",
        "\n",
        "    print('\\nTest set: Average loss: {:.4f}, Accuracy: {}/{} ({:.2f}%)\\n'.format(\n",
        "        test_loss, correct, len(test_loader.dataset),\n",
        "        100. * correct / len(test_loader.dataset)))"
      ],
      "execution_count": 0,
      "outputs": []
    },
    {
      "cell_type": "code",
      "metadata": {
        "id": "MMWbLWO6FuHb",
        "colab_type": "code",
        "outputId": "b386ec50-8fb6-4e45-95ca-c765c91c3dec",
        "colab": {
          "base_uri": "https://localhost:8080/",
          "height": 1000
        }
      },
      "source": [
        "\n",
        "model = Net().to(device)\n",
        "optimizer = optim.SGD(model.parameters(), lr=0.01, momentum=0.9)\n",
        "\n",
        "for epoch in range(1, 21):\n",
        "    print('Epoch: ',epoch)\n",
        "    train(model, device, train_loader, optimizer, epoch)\n",
        "    test(model, device, test_loader)"
      ],
      "execution_count": 31,
      "outputs": [
        {
          "output_type": "stream",
          "text": [
            "\r  0%|          | 0/938 [00:00<?, ?it/s]"
          ],
          "name": "stderr"
        },
        {
          "output_type": "stream",
          "text": [
            "Epoch:  1\n"
          ],
          "name": "stdout"
        },
        {
          "output_type": "stream",
          "text": [
            "/usr/local/lib/python3.6/dist-packages/ipykernel_launcher.py:50: UserWarning: Implicit dimension choice for log_softmax has been deprecated. Change the call to include dim=X as an argument.\n",
            "loss=0.25465792417526245 batch_id=937: 100%|██████████| 938/938 [00:16<00:00, 57.24it/s]\n",
            "  0%|          | 0/938 [00:00<?, ?it/s]"
          ],
          "name": "stderr"
        },
        {
          "output_type": "stream",
          "text": [
            "\n",
            "Test set: Average loss: 0.0479, Accuracy: 9838/10000 (98.38%)\n",
            "\n",
            "Epoch:  2\n"
          ],
          "name": "stdout"
        },
        {
          "output_type": "stream",
          "text": [
            "loss=0.4158371686935425 batch_id=937: 100%|██████████| 938/938 [00:15<00:00, 60.76it/s]\n",
            "  0%|          | 0/938 [00:00<?, ?it/s]"
          ],
          "name": "stderr"
        },
        {
          "output_type": "stream",
          "text": [
            "\n",
            "Test set: Average loss: 0.0336, Accuracy: 9892/10000 (98.92%)\n",
            "\n",
            "Epoch:  3\n"
          ],
          "name": "stdout"
        },
        {
          "output_type": "stream",
          "text": [
            "loss=0.04457449913024902 batch_id=937: 100%|██████████| 938/938 [00:15<00:00, 60.39it/s]\n",
            "  0%|          | 0/938 [00:00<?, ?it/s]"
          ],
          "name": "stderr"
        },
        {
          "output_type": "stream",
          "text": [
            "\n",
            "Test set: Average loss: 0.0250, Accuracy: 9908/10000 (99.08%)\n",
            "\n",
            "Epoch:  4\n"
          ],
          "name": "stdout"
        },
        {
          "output_type": "stream",
          "text": [
            "loss=0.01463387906551361 batch_id=937: 100%|██████████| 938/938 [00:15<00:00, 61.06it/s]\n",
            "  0%|          | 0/938 [00:00<?, ?it/s]"
          ],
          "name": "stderr"
        },
        {
          "output_type": "stream",
          "text": [
            "\n",
            "Test set: Average loss: 0.0280, Accuracy: 9908/10000 (99.08%)\n",
            "\n",
            "Epoch:  5\n"
          ],
          "name": "stdout"
        },
        {
          "output_type": "stream",
          "text": [
            "loss=0.029668182134628296 batch_id=937: 100%|██████████| 938/938 [00:15<00:00, 62.21it/s]\n",
            "  0%|          | 0/938 [00:00<?, ?it/s]"
          ],
          "name": "stderr"
        },
        {
          "output_type": "stream",
          "text": [
            "\n",
            "Test set: Average loss: 0.0221, Accuracy: 9923/10000 (99.23%)\n",
            "\n",
            "Epoch:  6\n"
          ],
          "name": "stdout"
        },
        {
          "output_type": "stream",
          "text": [
            "loss=0.006591320037841797 batch_id=937: 100%|██████████| 938/938 [00:15<00:00, 61.61it/s]\n",
            "  0%|          | 0/938 [00:00<?, ?it/s]"
          ],
          "name": "stderr"
        },
        {
          "output_type": "stream",
          "text": [
            "\n",
            "Test set: Average loss: 0.0239, Accuracy: 9923/10000 (99.23%)\n",
            "\n",
            "Epoch:  7\n"
          ],
          "name": "stdout"
        },
        {
          "output_type": "stream",
          "text": [
            "loss=0.043494682759046555 batch_id=937: 100%|██████████| 938/938 [00:15<00:00, 60.92it/s]\n",
            "  0%|          | 0/938 [00:00<?, ?it/s]"
          ],
          "name": "stderr"
        },
        {
          "output_type": "stream",
          "text": [
            "\n",
            "Test set: Average loss: 0.0195, Accuracy: 9931/10000 (99.31%)\n",
            "\n",
            "Epoch:  8\n"
          ],
          "name": "stdout"
        },
        {
          "output_type": "stream",
          "text": [
            "loss=0.0013256669044494629 batch_id=937: 100%|██████████| 938/938 [00:14<00:00, 63.17it/s]\n",
            "  0%|          | 0/938 [00:00<?, ?it/s]"
          ],
          "name": "stderr"
        },
        {
          "output_type": "stream",
          "text": [
            "\n",
            "Test set: Average loss: 0.0196, Accuracy: 9937/10000 (99.37%)\n",
            "\n",
            "Epoch:  9\n"
          ],
          "name": "stdout"
        },
        {
          "output_type": "stream",
          "text": [
            "loss=0.006806418299674988 batch_id=937: 100%|██████████| 938/938 [00:15<00:00, 61.49it/s]\n",
            "  0%|          | 0/938 [00:00<?, ?it/s]"
          ],
          "name": "stderr"
        },
        {
          "output_type": "stream",
          "text": [
            "\n",
            "Test set: Average loss: 0.0203, Accuracy: 9938/10000 (99.38%)\n",
            "\n",
            "Epoch:  10\n"
          ],
          "name": "stdout"
        },
        {
          "output_type": "stream",
          "text": [
            "loss=0.007847532629966736 batch_id=937: 100%|██████████| 938/938 [00:14<00:00, 63.32it/s]\n",
            "  0%|          | 0/938 [00:00<?, ?it/s]"
          ],
          "name": "stderr"
        },
        {
          "output_type": "stream",
          "text": [
            "\n",
            "Test set: Average loss: 0.0201, Accuracy: 9934/10000 (99.34%)\n",
            "\n",
            "Epoch:  11\n"
          ],
          "name": "stdout"
        },
        {
          "output_type": "stream",
          "text": [
            "loss=0.1421346664428711 batch_id=937: 100%|██████████| 938/938 [00:15<00:00, 61.63it/s]\n",
            "  0%|          | 0/938 [00:00<?, ?it/s]"
          ],
          "name": "stderr"
        },
        {
          "output_type": "stream",
          "text": [
            "\n",
            "Test set: Average loss: 0.0176, Accuracy: 9946/10000 (99.46%)\n",
            "\n",
            "Epoch:  12\n"
          ],
          "name": "stdout"
        },
        {
          "output_type": "stream",
          "text": [
            "loss=0.00033715367317199707 batch_id=937: 100%|██████████| 938/938 [00:14<00:00, 63.60it/s]\n",
            "  0%|          | 0/938 [00:00<?, ?it/s]"
          ],
          "name": "stderr"
        },
        {
          "output_type": "stream",
          "text": [
            "\n",
            "Test set: Average loss: 0.0182, Accuracy: 9933/10000 (99.33%)\n",
            "\n",
            "Epoch:  13\n"
          ],
          "name": "stdout"
        },
        {
          "output_type": "stream",
          "text": [
            "loss=0.16144375503063202 batch_id=937: 100%|██████████| 938/938 [00:14<00:00, 65.25it/s]\n",
            "  0%|          | 0/938 [00:00<?, ?it/s]"
          ],
          "name": "stderr"
        },
        {
          "output_type": "stream",
          "text": [
            "\n",
            "Test set: Average loss: 0.0181, Accuracy: 9938/10000 (99.38%)\n",
            "\n",
            "Epoch:  14\n"
          ],
          "name": "stdout"
        },
        {
          "output_type": "stream",
          "text": [
            "loss=0.08274464309215546 batch_id=937: 100%|██████████| 938/938 [00:14<00:00, 63.56it/s]\n",
            "  0%|          | 0/938 [00:00<?, ?it/s]"
          ],
          "name": "stderr"
        },
        {
          "output_type": "stream",
          "text": [
            "\n",
            "Test set: Average loss: 0.0179, Accuracy: 9942/10000 (99.42%)\n",
            "\n",
            "Epoch:  15\n"
          ],
          "name": "stdout"
        },
        {
          "output_type": "stream",
          "text": [
            "loss=0.09323038905858994 batch_id=937: 100%|██████████| 938/938 [00:14<00:00, 64.57it/s]\n",
            "  0%|          | 0/938 [00:00<?, ?it/s]"
          ],
          "name": "stderr"
        },
        {
          "output_type": "stream",
          "text": [
            "\n",
            "Test set: Average loss: 0.0188, Accuracy: 9943/10000 (99.43%)\n",
            "\n",
            "Epoch:  16\n"
          ],
          "name": "stdout"
        },
        {
          "output_type": "stream",
          "text": [
            "loss=0.006952613592147827 batch_id=937: 100%|██████████| 938/938 [00:14<00:00, 70.51it/s]\n",
            "  0%|          | 0/938 [00:00<?, ?it/s]"
          ],
          "name": "stderr"
        },
        {
          "output_type": "stream",
          "text": [
            "\n",
            "Test set: Average loss: 0.0182, Accuracy: 9944/10000 (99.44%)\n",
            "\n",
            "Epoch:  17\n"
          ],
          "name": "stdout"
        },
        {
          "output_type": "stream",
          "text": [
            "loss=0.013173460960388184 batch_id=937: 100%|██████████| 938/938 [00:14<00:00, 65.19it/s]\n",
            "  0%|          | 0/938 [00:00<?, ?it/s]"
          ],
          "name": "stderr"
        },
        {
          "output_type": "stream",
          "text": [
            "\n",
            "Test set: Average loss: 0.0177, Accuracy: 9947/10000 (99.47%)\n",
            "\n",
            "Epoch:  18\n"
          ],
          "name": "stdout"
        },
        {
          "output_type": "stream",
          "text": [
            "loss=0.033679068088531494 batch_id=937: 100%|██████████| 938/938 [00:14<00:00, 62.87it/s]\n",
            "  0%|          | 0/938 [00:00<?, ?it/s]"
          ],
          "name": "stderr"
        },
        {
          "output_type": "stream",
          "text": [
            "\n",
            "Test set: Average loss: 0.0182, Accuracy: 9941/10000 (99.41%)\n",
            "\n",
            "Epoch:  19\n"
          ],
          "name": "stdout"
        },
        {
          "output_type": "stream",
          "text": [
            "loss=0.020821601152420044 batch_id=937: 100%|██████████| 938/938 [00:14<00:00, 65.27it/s]\n",
            "  0%|          | 0/938 [00:00<?, ?it/s]"
          ],
          "name": "stderr"
        },
        {
          "output_type": "stream",
          "text": [
            "\n",
            "Test set: Average loss: 0.0188, Accuracy: 9939/10000 (99.39%)\n",
            "\n",
            "Epoch:  20\n"
          ],
          "name": "stdout"
        },
        {
          "output_type": "stream",
          "text": [
            "loss=0.01460951566696167 batch_id=937: 100%|██████████| 938/938 [00:14<00:00, 63.97it/s]\n"
          ],
          "name": "stderr"
        },
        {
          "output_type": "stream",
          "text": [
            "\n",
            "Test set: Average loss: 0.0161, Accuracy: 9953/10000 (99.53%)\n",
            "\n"
          ],
          "name": "stdout"
        }
      ]
    },
    {
      "cell_type": "code",
      "metadata": {
        "id": "tv-9tX431ic1",
        "colab_type": "code",
        "colab": {}
      },
      "source": [
        ""
      ],
      "execution_count": 0,
      "outputs": []
    }
  ]
}